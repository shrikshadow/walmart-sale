{
 "cells": [
  {
   "cell_type": "markdown",
   "id": "d94286a3",
   "metadata": {},
   "source": [
    "\n",
    "A retail store that has multiple outlets across the country are facing issues in managing the inventory - to match the demand with respect to supply.\n",
    "\n",
    "Dataset Information:\n",
    "\n",
    "The walmart.csv contains 6435 rows and 8 columns.\n",
    "\n",
    "Store - the store number\n",
    "\n",
    "Date - the week of sales\n",
    "\n",
    "Weekly_Sales - sales for the given store\n",
    "\n",
    "Holiday_Flag - whether the week is a special holiday week 1 – Holiday week 0 – Non-holiday week\n",
    "\n",
    "Temperature - Temperature on the day of sale\n",
    "\n",
    "Fuel_Price - Cost of fuel in the region\n",
    "\n",
    "CPI – Prevailing consumer price index\n",
    "\n",
    "Unemployment - Prevailing unemployment rate\n",
    "\n",
    "Holiday Events<br /> Super Bowl: 12-Feb-10, 11-Feb-11, 10-Feb-12, 8-Feb-13<br /> Labour Day: 10-Sep-10, 9-Sep-11, 7-Sep-12, 6-Sep-13<br /> Thanksgiving: 26-Nov-10, 25-Nov-11, 23-Nov-12, 29-Nov-13<br /> Christmas: 31-Dec-10, 30-Dec-11, 28-Dec-12, 27-Dec-1"
   ]
  },
  {
   "cell_type": "code",
   "execution_count": 77,
   "id": "5f9a264b",
   "metadata": {},
   "outputs": [],
   "source": [
    "import numpy as np\n",
    "import pandas as pd\n",
    "import matplotlib.pyplot as plt\n",
    "import seaborn as sns"
   ]
  },
  {
   "cell_type": "markdown",
   "id": "c6c68094",
   "metadata": {},
   "source": [
    "# Here,we have imported all the required python libraries that will be used in this analysis process.Now will import the data file.\n"
   ]
  },
  {
   "cell_type": "code",
   "execution_count": 92,
   "id": "e47bb41b",
   "metadata": {},
   "outputs": [
    {
     "data": {
      "text/html": [
       "<div>\n",
       "<style scoped>\n",
       "    .dataframe tbody tr th:only-of-type {\n",
       "        vertical-align: middle;\n",
       "    }\n",
       "\n",
       "    .dataframe tbody tr th {\n",
       "        vertical-align: top;\n",
       "    }\n",
       "\n",
       "    .dataframe thead th {\n",
       "        text-align: right;\n",
       "    }\n",
       "</style>\n",
       "<table border=\"1\" class=\"dataframe\">\n",
       "  <thead>\n",
       "    <tr style=\"text-align: right;\">\n",
       "      <th></th>\n",
       "      <th>Store</th>\n",
       "      <th>Date</th>\n",
       "      <th>Weekly_Sales</th>\n",
       "      <th>Holiday_Flag</th>\n",
       "      <th>Temperature</th>\n",
       "      <th>Fuel_Price</th>\n",
       "      <th>CPI</th>\n",
       "      <th>Unemployment</th>\n",
       "    </tr>\n",
       "  </thead>\n",
       "  <tbody>\n",
       "    <tr>\n",
       "      <th>0</th>\n",
       "      <td>1</td>\n",
       "      <td>05-02-2010</td>\n",
       "      <td>1643690.90</td>\n",
       "      <td>0</td>\n",
       "      <td>42.31</td>\n",
       "      <td>2.572</td>\n",
       "      <td>211.096358</td>\n",
       "      <td>8.106</td>\n",
       "    </tr>\n",
       "    <tr>\n",
       "      <th>1</th>\n",
       "      <td>1</td>\n",
       "      <td>12-02-2010</td>\n",
       "      <td>1641957.44</td>\n",
       "      <td>1</td>\n",
       "      <td>38.51</td>\n",
       "      <td>2.548</td>\n",
       "      <td>211.242170</td>\n",
       "      <td>8.106</td>\n",
       "    </tr>\n",
       "    <tr>\n",
       "      <th>2</th>\n",
       "      <td>1</td>\n",
       "      <td>19-02-2010</td>\n",
       "      <td>1611968.17</td>\n",
       "      <td>0</td>\n",
       "      <td>39.93</td>\n",
       "      <td>2.514</td>\n",
       "      <td>211.289143</td>\n",
       "      <td>8.106</td>\n",
       "    </tr>\n",
       "    <tr>\n",
       "      <th>3</th>\n",
       "      <td>1</td>\n",
       "      <td>26-02-2010</td>\n",
       "      <td>1409727.59</td>\n",
       "      <td>0</td>\n",
       "      <td>46.63</td>\n",
       "      <td>2.561</td>\n",
       "      <td>211.319643</td>\n",
       "      <td>8.106</td>\n",
       "    </tr>\n",
       "    <tr>\n",
       "      <th>4</th>\n",
       "      <td>1</td>\n",
       "      <td>05-03-2010</td>\n",
       "      <td>1554806.68</td>\n",
       "      <td>0</td>\n",
       "      <td>46.50</td>\n",
       "      <td>2.625</td>\n",
       "      <td>211.350143</td>\n",
       "      <td>8.106</td>\n",
       "    </tr>\n",
       "  </tbody>\n",
       "</table>\n",
       "</div>"
      ],
      "text/plain": [
       "   Store        Date  Weekly_Sales  Holiday_Flag  Temperature  Fuel_Price  \\\n",
       "0      1  05-02-2010    1643690.90             0        42.31       2.572   \n",
       "1      1  12-02-2010    1641957.44             1        38.51       2.548   \n",
       "2      1  19-02-2010    1611968.17             0        39.93       2.514   \n",
       "3      1  26-02-2010    1409727.59             0        46.63       2.561   \n",
       "4      1  05-03-2010    1554806.68             0        46.50       2.625   \n",
       "\n",
       "          CPI  Unemployment  \n",
       "0  211.096358         8.106  \n",
       "1  211.242170         8.106  \n",
       "2  211.289143         8.106  \n",
       "3  211.319643         8.106  \n",
       "4  211.350143         8.106  "
      ]
     },
     "execution_count": 92,
     "metadata": {},
     "output_type": "execute_result"
    }
   ],
   "source": [
    "data=pd.read_csv(\"Walmart.csv\")\n",
    "data.head(5)\n"
   ]
  },
  {
   "cell_type": "code",
   "execution_count": 79,
   "id": "40aeb34d",
   "metadata": {},
   "outputs": [
    {
     "data": {
      "text/html": [
       "<div>\n",
       "<style scoped>\n",
       "    .dataframe tbody tr th:only-of-type {\n",
       "        vertical-align: middle;\n",
       "    }\n",
       "\n",
       "    .dataframe tbody tr th {\n",
       "        vertical-align: top;\n",
       "    }\n",
       "\n",
       "    .dataframe thead th {\n",
       "        text-align: right;\n",
       "    }\n",
       "</style>\n",
       "<table border=\"1\" class=\"dataframe\">\n",
       "  <thead>\n",
       "    <tr style=\"text-align: right;\">\n",
       "      <th></th>\n",
       "      <th>Store</th>\n",
       "      <th>Date</th>\n",
       "      <th>Weekly_Sales</th>\n",
       "      <th>Holiday_Flag</th>\n",
       "      <th>Temperature</th>\n",
       "      <th>Fuel_Price</th>\n",
       "      <th>CPI</th>\n",
       "      <th>Unemployment</th>\n",
       "    </tr>\n",
       "  </thead>\n",
       "  <tbody>\n",
       "    <tr>\n",
       "      <th>6430</th>\n",
       "      <td>45</td>\n",
       "      <td>28-09-2012</td>\n",
       "      <td>713173.95</td>\n",
       "      <td>0</td>\n",
       "      <td>64.88</td>\n",
       "      <td>3.997</td>\n",
       "      <td>192.013558</td>\n",
       "      <td>8.684</td>\n",
       "    </tr>\n",
       "    <tr>\n",
       "      <th>6431</th>\n",
       "      <td>45</td>\n",
       "      <td>05-10-2012</td>\n",
       "      <td>733455.07</td>\n",
       "      <td>0</td>\n",
       "      <td>64.89</td>\n",
       "      <td>3.985</td>\n",
       "      <td>192.170412</td>\n",
       "      <td>8.667</td>\n",
       "    </tr>\n",
       "    <tr>\n",
       "      <th>6432</th>\n",
       "      <td>45</td>\n",
       "      <td>12-10-2012</td>\n",
       "      <td>734464.36</td>\n",
       "      <td>0</td>\n",
       "      <td>54.47</td>\n",
       "      <td>4.000</td>\n",
       "      <td>192.327265</td>\n",
       "      <td>8.667</td>\n",
       "    </tr>\n",
       "    <tr>\n",
       "      <th>6433</th>\n",
       "      <td>45</td>\n",
       "      <td>19-10-2012</td>\n",
       "      <td>718125.53</td>\n",
       "      <td>0</td>\n",
       "      <td>56.47</td>\n",
       "      <td>3.969</td>\n",
       "      <td>192.330854</td>\n",
       "      <td>8.667</td>\n",
       "    </tr>\n",
       "    <tr>\n",
       "      <th>6434</th>\n",
       "      <td>45</td>\n",
       "      <td>26-10-2012</td>\n",
       "      <td>760281.43</td>\n",
       "      <td>0</td>\n",
       "      <td>58.85</td>\n",
       "      <td>3.882</td>\n",
       "      <td>192.308899</td>\n",
       "      <td>8.667</td>\n",
       "    </tr>\n",
       "  </tbody>\n",
       "</table>\n",
       "</div>"
      ],
      "text/plain": [
       "      Store        Date  Weekly_Sales  Holiday_Flag  Temperature  Fuel_Price  \\\n",
       "6430     45  28-09-2012     713173.95             0        64.88       3.997   \n",
       "6431     45  05-10-2012     733455.07             0        64.89       3.985   \n",
       "6432     45  12-10-2012     734464.36             0        54.47       4.000   \n",
       "6433     45  19-10-2012     718125.53             0        56.47       3.969   \n",
       "6434     45  26-10-2012     760281.43             0        58.85       3.882   \n",
       "\n",
       "             CPI  Unemployment  \n",
       "6430  192.013558         8.684  \n",
       "6431  192.170412         8.667  \n",
       "6432  192.327265         8.667  \n",
       "6433  192.330854         8.667  \n",
       "6434  192.308899         8.667  "
      ]
     },
     "execution_count": 79,
     "metadata": {},
     "output_type": "execute_result"
    }
   ],
   "source": [
    "data.tail(5)"
   ]
  },
  {
   "cell_type": "markdown",
   "id": "ff56b758",
   "metadata": {},
   "source": [
    "# Checking for the information about the columns"
   ]
  },
  {
   "cell_type": "code",
   "execution_count": 80,
   "id": "c57161df",
   "metadata": {},
   "outputs": [
    {
     "name": "stdout",
     "output_type": "stream",
     "text": [
      "<class 'pandas.core.frame.DataFrame'>\n",
      "RangeIndex: 6435 entries, 0 to 6434\n",
      "Data columns (total 8 columns):\n",
      " #   Column        Non-Null Count  Dtype  \n",
      "---  ------        --------------  -----  \n",
      " 0   Store         6435 non-null   int64  \n",
      " 1   Date          6435 non-null   object \n",
      " 2   Weekly_Sales  6435 non-null   float64\n",
      " 3   Holiday_Flag  6435 non-null   int64  \n",
      " 4   Temperature   6435 non-null   float64\n",
      " 5   Fuel_Price    6435 non-null   float64\n",
      " 6   CPI           6435 non-null   float64\n",
      " 7   Unemployment  6435 non-null   float64\n",
      "dtypes: float64(5), int64(2), object(1)\n",
      "memory usage: 402.3+ KB\n"
     ]
    }
   ],
   "source": [
    "data.info()\n"
   ]
  },
  {
   "cell_type": "markdown",
   "id": "b0fef95e",
   "metadata": {},
   "source": [
    "# lets first change the Date format into the date time ,in order to perform analysis on date too."
   ]
  },
  {
   "cell_type": "code",
   "execution_count": 81,
   "id": "f3d3cede",
   "metadata": {},
   "outputs": [
    {
     "name": "stdout",
     "output_type": "stream",
     "text": [
      "<class 'pandas.core.frame.DataFrame'>\n",
      "RangeIndex: 6435 entries, 0 to 6434\n",
      "Data columns (total 8 columns):\n",
      " #   Column        Non-Null Count  Dtype         \n",
      "---  ------        --------------  -----         \n",
      " 0   Store         6435 non-null   int64         \n",
      " 1   Date          6435 non-null   datetime64[ns]\n",
      " 2   Weekly_Sales  6435 non-null   float64       \n",
      " 3   Holiday_Flag  6435 non-null   int64         \n",
      " 4   Temperature   6435 non-null   float64       \n",
      " 5   Fuel_Price    6435 non-null   float64       \n",
      " 6   CPI           6435 non-null   float64       \n",
      " 7   Unemployment  6435 non-null   float64       \n",
      "dtypes: datetime64[ns](1), float64(5), int64(2)\n",
      "memory usage: 402.3 KB\n"
     ]
    }
   ],
   "source": [
    "data['Date'] = pd.to_datetime(data['Date'], format='%d-%m-%Y')# changed the data type of date column:\n",
    "data.info()\n",
    "\n"
   ]
  },
  {
   "cell_type": "code",
   "execution_count": 82,
   "id": "85e395f1",
   "metadata": {},
   "outputs": [
    {
     "data": {
      "text/html": [
       "<div>\n",
       "<style scoped>\n",
       "    .dataframe tbody tr th:only-of-type {\n",
       "        vertical-align: middle;\n",
       "    }\n",
       "\n",
       "    .dataframe tbody tr th {\n",
       "        vertical-align: top;\n",
       "    }\n",
       "\n",
       "    .dataframe thead th {\n",
       "        text-align: right;\n",
       "    }\n",
       "</style>\n",
       "<table border=\"1\" class=\"dataframe\">\n",
       "  <thead>\n",
       "    <tr style=\"text-align: right;\">\n",
       "      <th></th>\n",
       "      <th>Store</th>\n",
       "      <th>Date</th>\n",
       "      <th>Weekly_Sales</th>\n",
       "      <th>Holiday_Flag</th>\n",
       "      <th>Temperature</th>\n",
       "      <th>Fuel_Price</th>\n",
       "      <th>CPI</th>\n",
       "      <th>Unemployment</th>\n",
       "    </tr>\n",
       "  </thead>\n",
       "  <tbody>\n",
       "    <tr>\n",
       "      <th>count</th>\n",
       "      <td>6435.000000</td>\n",
       "      <td>6435</td>\n",
       "      <td>6.435000e+03</td>\n",
       "      <td>6435.000000</td>\n",
       "      <td>6435.000000</td>\n",
       "      <td>6435.000000</td>\n",
       "      <td>6435.000000</td>\n",
       "      <td>6435.000000</td>\n",
       "    </tr>\n",
       "    <tr>\n",
       "      <th>mean</th>\n",
       "      <td>23.000000</td>\n",
       "      <td>2011-06-17 00:00:00</td>\n",
       "      <td>1.046965e+06</td>\n",
       "      <td>0.069930</td>\n",
       "      <td>60.663782</td>\n",
       "      <td>3.358607</td>\n",
       "      <td>171.578394</td>\n",
       "      <td>7.999151</td>\n",
       "    </tr>\n",
       "    <tr>\n",
       "      <th>min</th>\n",
       "      <td>1.000000</td>\n",
       "      <td>2010-02-05 00:00:00</td>\n",
       "      <td>2.099862e+05</td>\n",
       "      <td>0.000000</td>\n",
       "      <td>-2.060000</td>\n",
       "      <td>2.472000</td>\n",
       "      <td>126.064000</td>\n",
       "      <td>3.879000</td>\n",
       "    </tr>\n",
       "    <tr>\n",
       "      <th>25%</th>\n",
       "      <td>12.000000</td>\n",
       "      <td>2010-10-08 00:00:00</td>\n",
       "      <td>5.533501e+05</td>\n",
       "      <td>0.000000</td>\n",
       "      <td>47.460000</td>\n",
       "      <td>2.933000</td>\n",
       "      <td>131.735000</td>\n",
       "      <td>6.891000</td>\n",
       "    </tr>\n",
       "    <tr>\n",
       "      <th>50%</th>\n",
       "      <td>23.000000</td>\n",
       "      <td>2011-06-17 00:00:00</td>\n",
       "      <td>9.607460e+05</td>\n",
       "      <td>0.000000</td>\n",
       "      <td>62.670000</td>\n",
       "      <td>3.445000</td>\n",
       "      <td>182.616521</td>\n",
       "      <td>7.874000</td>\n",
       "    </tr>\n",
       "    <tr>\n",
       "      <th>75%</th>\n",
       "      <td>34.000000</td>\n",
       "      <td>2012-02-24 00:00:00</td>\n",
       "      <td>1.420159e+06</td>\n",
       "      <td>0.000000</td>\n",
       "      <td>74.940000</td>\n",
       "      <td>3.735000</td>\n",
       "      <td>212.743293</td>\n",
       "      <td>8.622000</td>\n",
       "    </tr>\n",
       "    <tr>\n",
       "      <th>max</th>\n",
       "      <td>45.000000</td>\n",
       "      <td>2012-10-26 00:00:00</td>\n",
       "      <td>3.818686e+06</td>\n",
       "      <td>1.000000</td>\n",
       "      <td>100.140000</td>\n",
       "      <td>4.468000</td>\n",
       "      <td>227.232807</td>\n",
       "      <td>14.313000</td>\n",
       "    </tr>\n",
       "    <tr>\n",
       "      <th>std</th>\n",
       "      <td>12.988182</td>\n",
       "      <td>NaN</td>\n",
       "      <td>5.643666e+05</td>\n",
       "      <td>0.255049</td>\n",
       "      <td>18.444933</td>\n",
       "      <td>0.459020</td>\n",
       "      <td>39.356712</td>\n",
       "      <td>1.875885</td>\n",
       "    </tr>\n",
       "  </tbody>\n",
       "</table>\n",
       "</div>"
      ],
      "text/plain": [
       "             Store                 Date  Weekly_Sales  Holiday_Flag  \\\n",
       "count  6435.000000                 6435  6.435000e+03   6435.000000   \n",
       "mean     23.000000  2011-06-17 00:00:00  1.046965e+06      0.069930   \n",
       "min       1.000000  2010-02-05 00:00:00  2.099862e+05      0.000000   \n",
       "25%      12.000000  2010-10-08 00:00:00  5.533501e+05      0.000000   \n",
       "50%      23.000000  2011-06-17 00:00:00  9.607460e+05      0.000000   \n",
       "75%      34.000000  2012-02-24 00:00:00  1.420159e+06      0.000000   \n",
       "max      45.000000  2012-10-26 00:00:00  3.818686e+06      1.000000   \n",
       "std      12.988182                  NaN  5.643666e+05      0.255049   \n",
       "\n",
       "       Temperature   Fuel_Price          CPI  Unemployment  \n",
       "count  6435.000000  6435.000000  6435.000000   6435.000000  \n",
       "mean     60.663782     3.358607   171.578394      7.999151  \n",
       "min      -2.060000     2.472000   126.064000      3.879000  \n",
       "25%      47.460000     2.933000   131.735000      6.891000  \n",
       "50%      62.670000     3.445000   182.616521      7.874000  \n",
       "75%      74.940000     3.735000   212.743293      8.622000  \n",
       "max     100.140000     4.468000   227.232807     14.313000  \n",
       "std      18.444933     0.459020    39.356712      1.875885  "
      ]
     },
     "execution_count": 82,
     "metadata": {},
     "output_type": "execute_result"
    }
   ],
   "source": [
    "data.describe()"
   ]
  },
  {
   "cell_type": "code",
   "execution_count": 83,
   "id": "9170ec30",
   "metadata": {},
   "outputs": [
    {
     "data": {
      "text/html": [
       "<div>\n",
       "<style scoped>\n",
       "    .dataframe tbody tr th:only-of-type {\n",
       "        vertical-align: middle;\n",
       "    }\n",
       "\n",
       "    .dataframe tbody tr th {\n",
       "        vertical-align: top;\n",
       "    }\n",
       "\n",
       "    .dataframe thead th {\n",
       "        text-align: right;\n",
       "    }\n",
       "</style>\n",
       "<table border=\"1\" class=\"dataframe\">\n",
       "  <thead>\n",
       "    <tr style=\"text-align: right;\">\n",
       "      <th></th>\n",
       "      <th>Total Missing</th>\n",
       "      <th>Percent</th>\n",
       "    </tr>\n",
       "  </thead>\n",
       "  <tbody>\n",
       "    <tr>\n",
       "      <th>Store</th>\n",
       "      <td>0</td>\n",
       "      <td>0.0</td>\n",
       "    </tr>\n",
       "    <tr>\n",
       "      <th>Date</th>\n",
       "      <td>0</td>\n",
       "      <td>0.0</td>\n",
       "    </tr>\n",
       "    <tr>\n",
       "      <th>Weekly_Sales</th>\n",
       "      <td>0</td>\n",
       "      <td>0.0</td>\n",
       "    </tr>\n",
       "    <tr>\n",
       "      <th>Holiday_Flag</th>\n",
       "      <td>0</td>\n",
       "      <td>0.0</td>\n",
       "    </tr>\n",
       "    <tr>\n",
       "      <th>Temperature</th>\n",
       "      <td>0</td>\n",
       "      <td>0.0</td>\n",
       "    </tr>\n",
       "    <tr>\n",
       "      <th>Fuel_Price</th>\n",
       "      <td>0</td>\n",
       "      <td>0.0</td>\n",
       "    </tr>\n",
       "    <tr>\n",
       "      <th>CPI</th>\n",
       "      <td>0</td>\n",
       "      <td>0.0</td>\n",
       "    </tr>\n",
       "    <tr>\n",
       "      <th>Unemployment</th>\n",
       "      <td>0</td>\n",
       "      <td>0.0</td>\n",
       "    </tr>\n",
       "  </tbody>\n",
       "</table>\n",
       "</div>"
      ],
      "text/plain": [
       "              Total Missing  Percent\n",
       "Store                     0      0.0\n",
       "Date                      0      0.0\n",
       "Weekly_Sales              0      0.0\n",
       "Holiday_Flag              0      0.0\n",
       "Temperature               0      0.0\n",
       "Fuel_Price                0      0.0\n",
       "CPI                       0      0.0\n",
       "Unemployment              0      0.0"
      ]
     },
     "execution_count": 83,
     "metadata": {},
     "output_type": "execute_result"
    }
   ],
   "source": [
    "missing_value=data.isnull().sum()\n",
    "missing_value_percentage=(missing_value)/data.shape[0]*100\n",
    "missing_data = pd.concat([missing_value,missing_value_percentage], axis=1, keys=['Total Missing', 'Percent'])\n",
    "missing_data\n"
   ]
  },
  {
   "cell_type": "markdown",
   "id": "832ed6f1",
   "metadata": {},
   "source": [
    "Here ,we can see can that their is no null data in dataset of walmart"
   ]
  },
  {
   "cell_type": "markdown",
   "id": "1eb842e2",
   "metadata": {},
   "source": [
    "# Removing Outliers "
   ]
  },
  {
   "cell_type": "code",
   "execution_count": 94,
   "id": "fa8ea990",
   "metadata": {},
   "outputs": [],
   "source": [
    "col=[ 'Weekly_Sales', 'Temperature', 'Fuel_Price', 'CPI', 'Unemployment']\n"
   ]
  },
  {
   "cell_type": "code",
   "execution_count": 95,
   "id": "ad96d464",
   "metadata": {},
   "outputs": [
    {
     "data": {
      "image/png": "[encoded data removed]",
      "text/plain": [
       "<Figure size 640x480 with 1 Axes>"
      ]
     },
     "metadata": {},
     "output_type": "display_data"
    },
    {
     "data": {
      "image/png": "[encoded data removed]",
      "text/plain": [
       "<Figure size 640x480 with 1 Axes>"
      ]
     },
     "metadata": {},
     "output_type": "display_data"
    },
    {
     "data": {
      "image/png": "[encoded data removed]",
      "text/plain": [
       "<Figure size 640x480 with 1 Axes>"
      ]
     },
     "metadata": {},
     "output_type": "display_data"
    },
    {
     "data": {
      "image/png": "[encoded data removed]",
      "text/plain": [
       "<Figure size 640x480 with 1 Axes>"
      ]
     },
     "metadata": {},
     "output_type": "display_data"
    },
    {
     "data": {
      "image/png": "[encoded data removed]",
      "text/plain": [
       "<Figure size 640x480 with 1 Axes>"
      ]
     },
     "metadata": {},
     "output_type": "display_data"
    }
   ],
   "source": [
    "for   i in col:\n",
    "    if (data[i].dtypes ==\"int\") or data[i].dtypes ==\"float\":\n",
    "#  plt.figure(figsize=(3,2),dpi=200)\n",
    "        plt.boxplot(data[i])\n",
    "        plt.xlabel(i)\n",
    "        plt.ylabel(\"count\")\n",
    "        plt.show()"
   ]
  },
  {
   "cell_type": "markdown",
   "id": "40e5ed5f",
   "metadata": {},
   "source": [
    "removing outlier for the weekly_sales and unemployment "
   ]
  },
  {
   "cell_type": "code",
   "execution_count": 96,
   "id": "b3adbbad",
   "metadata": {},
   "outputs": [],
   "source": [
    "Q3=data[\"Weekly_Sales\"].quantile(0.75)\n",
    "Q1=data[\"Weekly_Sales\"].quantile(0.25)\n",
    "IQR=Q3-Q1\n",
    "UL=Q3+1.5*IQR\n",
    "LL=Q1-1.5*IQR\n",
    "data=data[(data[\"Weekly_Sales\"]>LL) & (data[\"Weekly_Sales\"]<UL)]\n",
    "\n",
    "Q3=data[\"Unemployment\"].quantile(0.75)\n",
    "Q1=data[\"Unemployment\"].quantile(0.25)\n",
    "IQR=Q3-Q1\n",
    "UL=Q3+1.5*IQR\n",
    "LL=Q1-1.5*IQR\n",
    "data=data[(data[\"Unemployment\"]>LL) & (data[\"Unemployment\"]<UL)]\n",
    "\n"
   ]
  },
  {
   "cell_type": "code",
   "execution_count": 101,
   "id": "66351261",
   "metadata": {},
   "outputs": [
    {
     "data": {
      "image/png": "[encoded data removed]",
      "text/plain": [
       "<Figure size 640x480 with 1 Axes>"
      ]
     },
     "metadata": {},
     "output_type": "display_data"
    },
    {
     "data": {
      "image/png": "[encoded data removed]",
      "text/plain": [
       "<Figure size 640x480 with 1 Axes>"
      ]
     },
     "metadata": {},
     "output_type": "display_data"
    }
   ],
   "source": [
    "col1=[ 'Weekly_Sales',   'Unemployment']\n",
    "for i in col1:\n",
    "    if (data[i].dtypes ==\"int\") or data[i].dtypes ==\"float\":\n",
    "        plt.boxplot(data[i])\n",
    "        plt.xlabel(i)\n",
    "        plt.ylabel(\"count\")\n",
    "        plt.show()\n",
    "        "
   ]
  },
  {
   "cell_type": "code",
   "execution_count": 57,
   "id": "7823da58",
   "metadata": {},
   "outputs": [
    {
     "data": {
      "text/html": [
       "<div>\n",
       "<style scoped>\n",
       "    .dataframe tbody tr th:only-of-type {\n",
       "        vertical-align: middle;\n",
       "    }\n",
       "\n",
       "    .dataframe tbody tr th {\n",
       "        vertical-align: top;\n",
       "    }\n",
       "\n",
       "    .dataframe thead th {\n",
       "        text-align: right;\n",
       "    }\n",
       "</style>\n",
       "<table border=\"1\" class=\"dataframe\">\n",
       "  <thead>\n",
       "    <tr style=\"text-align: right;\">\n",
       "      <th></th>\n",
       "      <th>Store</th>\n",
       "      <th>Date</th>\n",
       "      <th>Weekly_Sales</th>\n",
       "      <th>Holiday_Flag</th>\n",
       "      <th>Temperature</th>\n",
       "      <th>Fuel_Price</th>\n",
       "      <th>CPI</th>\n",
       "      <th>Unemployment</th>\n",
       "    </tr>\n",
       "  </thead>\n",
       "  <tbody>\n",
       "    <tr>\n",
       "      <th>count</th>\n",
       "      <td>5920.000000</td>\n",
       "      <td>5920</td>\n",
       "      <td>5.920000e+03</td>\n",
       "      <td>5920.000000</td>\n",
       "      <td>5920.000000</td>\n",
       "      <td>5920.000000</td>\n",
       "      <td>5920.000000</td>\n",
       "      <td>5920.000000</td>\n",
       "    </tr>\n",
       "    <tr>\n",
       "      <th>mean</th>\n",
       "      <td>22.798142</td>\n",
       "      <td>2011-06-14 15:31:37.297297152</td>\n",
       "      <td>1.039202e+06</td>\n",
       "      <td>0.069088</td>\n",
       "      <td>60.404422</td>\n",
       "      <td>3.340395</td>\n",
       "      <td>175.010815</td>\n",
       "      <td>7.722377</td>\n",
       "    </tr>\n",
       "    <tr>\n",
       "      <th>min</th>\n",
       "      <td>1.000000</td>\n",
       "      <td>2010-02-05 00:00:00</td>\n",
       "      <td>2.099862e+05</td>\n",
       "      <td>0.000000</td>\n",
       "      <td>-2.060000</td>\n",
       "      <td>2.472000</td>\n",
       "      <td>126.064000</td>\n",
       "      <td>4.308000</td>\n",
       "    </tr>\n",
       "    <tr>\n",
       "      <th>25%</th>\n",
       "      <td>11.000000</td>\n",
       "      <td>2010-10-08 00:00:00</td>\n",
       "      <td>5.526404e+05</td>\n",
       "      <td>0.000000</td>\n",
       "      <td>46.965000</td>\n",
       "      <td>2.891000</td>\n",
       "      <td>132.766139</td>\n",
       "      <td>6.891000</td>\n",
       "    </tr>\n",
       "    <tr>\n",
       "      <th>50%</th>\n",
       "      <td>22.000000</td>\n",
       "      <td>2011-06-10 00:00:00</td>\n",
       "      <td>9.469219e+05</td>\n",
       "      <td>0.000000</td>\n",
       "      <td>62.610000</td>\n",
       "      <td>3.418500</td>\n",
       "      <td>190.006988</td>\n",
       "      <td>7.852000</td>\n",
       "    </tr>\n",
       "    <tr>\n",
       "      <th>75%</th>\n",
       "      <td>34.000000</td>\n",
       "      <td>2012-02-17 00:00:00</td>\n",
       "      <td>1.427444e+06</td>\n",
       "      <td>0.000000</td>\n",
       "      <td>74.722500</td>\n",
       "      <td>3.721000</td>\n",
       "      <td>213.793561</td>\n",
       "      <td>8.494000</td>\n",
       "    </tr>\n",
       "    <tr>\n",
       "      <th>max</th>\n",
       "      <td>45.000000</td>\n",
       "      <td>2012-10-26 00:00:00</td>\n",
       "      <td>2.685352e+06</td>\n",
       "      <td>1.000000</td>\n",
       "      <td>100.140000</td>\n",
       "      <td>4.468000</td>\n",
       "      <td>227.232807</td>\n",
       "      <td>10.926000</td>\n",
       "    </tr>\n",
       "    <tr>\n",
       "      <th>std</th>\n",
       "      <td>13.092635</td>\n",
       "      <td>NaN</td>\n",
       "      <td>5.518484e+05</td>\n",
       "      <td>0.253625</td>\n",
       "      <td>18.427013</td>\n",
       "      <td>0.458143</td>\n",
       "      <td>39.022611</td>\n",
       "      <td>1.243156</td>\n",
       "    </tr>\n",
       "  </tbody>\n",
       "</table>\n",
       "</div>"
      ],
      "text/plain": [
       "             Store                           Date  Weekly_Sales  Holiday_Flag  \\\n",
       "count  5920.000000                           5920  5.920000e+03   5920.000000   \n",
       "mean     22.798142  2011-06-14 15:31:37.297297152  1.039202e+06      0.069088   \n",
       "min       1.000000            2010-02-05 00:00:00  2.099862e+05      0.000000   \n",
       "25%      11.000000            2010-10-08 00:00:00  5.526404e+05      0.000000   \n",
       "50%      22.000000            2011-06-10 00:00:00  9.469219e+05      0.000000   \n",
       "75%      34.000000            2012-02-17 00:00:00  1.427444e+06      0.000000   \n",
       "max      45.000000            2012-10-26 00:00:00  2.685352e+06      1.000000   \n",
       "std      13.092635                            NaN  5.518484e+05      0.253625   \n",
       "\n",
       "       Temperature   Fuel_Price          CPI  Unemployment  \n",
       "count  5920.000000  5920.000000  5920.000000   5920.000000  \n",
       "mean     60.404422     3.340395   175.010815      7.722377  \n",
       "min      -2.060000     2.472000   126.064000      4.308000  \n",
       "25%      46.965000     2.891000   132.766139      6.891000  \n",
       "50%      62.610000     3.418500   190.006988      7.852000  \n",
       "75%      74.722500     3.721000   213.793561      8.494000  \n",
       "max     100.140000     4.468000   227.232807     10.926000  \n",
       "std      18.427013     0.458143    39.022611      1.243156  "
      ]
     },
     "execution_count": 57,
     "metadata": {},
     "output_type": "execute_result"
    }
   ],
   "source": [
    "data.describe()"
   ]
  },
  {
   "cell_type": "markdown",
   "id": "888f07a9",
   "metadata": {},
   "source": [
    "# How  the  special  Holiday price affecting the weekly sales of various stores?"
   ]
  },
  {
   "cell_type": "code",
   "execution_count": 207,
   "id": "8ffe6d9b",
   "metadata": {},
   "outputs": [
    {
     "data": {
      "text/plain": [
       "np.int64(1)"
      ]
     },
     "execution_count": 207,
     "metadata": {},
     "output_type": "execute_result"
    }
   ],
   "source": [
    "df_holidays = data.copy()\n",
    "df_holidays.head()  \n",
    "df_holidays['Holiday_Flag'].max()"
   ]
  },
  {
   "cell_type": "code",
   "execution_count": 208,
   "id": "2f85b4da",
   "metadata": {},
   "outputs": [
    {
     "name": "stderr",
     "output_type": "stream",
     "text": [
      "/var/folders/pm/_x3_30fx12v1cmg1svz1jjd40000gn/T/ipykernel_28495/3221212160.py:9: FutureWarning: The default of observed=False is deprecated and will be changed to True in a future version of pandas. Pass observed=False to retain current behavior or observed=True to adopt the future default and silence this warning.\n",
      "  df_holidays_sales= df_holidays.groupby('Holidays_Cat')['Weekly_Sales'].mean().reset_index()\n"
     ]
    },
    {
     "data": {
      "image/png": "[encoded data removed]",
      "text/plain": [
       "<Figure size 640x480 with 1 Axes>"
      ]
     },
     "metadata": {},
     "output_type": "display_data"
    }
   ],
   "source": [
    "bins = [-0.1, 0.5, 1.1]  # Bin edges to include both 0 and 1 values\n",
    "labels = ['No Holiday Week', 'Holiday Week']  # Two labels for two bins\n",
    "\n",
    "df_holidays['Holidays_Cat'] = pd.cut(df_holidays['Holiday_Flag'], bins=bins, labels=labels)\n",
    "\n",
    "df_holidays_count = df_holidays['Holidays_Cat'].value_counts().sort_index()\n",
    "df_holidays_count\n",
    "df_holidays.head()\n",
    "df_holidays_sales= df_holidays.groupby('Holidays_Cat')['Weekly_Sales'].mean().reset_index()\n",
    "sns.barplot(x='Holidays_Cat', y='Weekly_Sales', data=df_holidays_sales)     \n",
    "plt.title('Weekly Sales by Holiday Category', fontsize=16)\n",
    "\n",
    "corr_holidays = df_holidays[['Weekly_Sales', 'Holiday_Flag']].corr()\n"
   ]
  },
  {
   "cell_type": "code",
   "execution_count": 209,
   "id": "1ec37ead",
   "metadata": {},
   "outputs": [],
   "source": [
    "# Calculate average sales for holiday and non-holiday weeks\n",
    "avg_sales_no_holiday = df_holidays_sales.loc[df_holidays_sales['Holidays_Cat'] == 'No Holiday Week', 'Weekly_Sales'].values[0]\n",
    "avg_sales_holiday = df_holidays_sales.loc[df_holidays_sales['Holidays_Cat'] == 'Holiday Week', 'Weekly_Sales'].values[0]\n",
    "\n"
   ]
  },
  {
   "cell_type": "code",
   "execution_count": 210,
   "id": "965faca5",
   "metadata": {},
   "outputs": [
    {
     "name": "stdout",
     "output_type": "stream",
     "text": [
      "Average Weekly Sales (No Holiday Week): 1,035,527.36\n",
      "Average Weekly Sales (Holiday Week): 1,088,710.29\n",
      "Percentage Increase in Sales during Holiday Week: 5.14%\n"
     ]
    }
   ],
   "source": [
    "# Percentage increase\n",
    "percent_increase = ((avg_sales_holiday - avg_sales_no_holiday) / avg_sales_no_holiday) * 100\n",
    "\n",
    "print(f\"Average Weekly Sales (No Holiday Week): {avg_sales_no_holiday:,.2f}\")\n",
    "print(f\"Average Weekly Sales (Holiday Week): {avg_sales_holiday:,.2f}\")\n",
    "print(f\"Percentage Increase in Sales during Holiday Week: {percent_increase:.2f}%\")"
   ]
  },
  {
   "cell_type": "markdown",
   "id": "0b70c548",
   "metadata": {},
   "source": [
    "# here we can see there increase of sales by more than 5% consistently "
   ]
  },
  {
   "cell_type": "markdown",
   "id": "18828ab0",
   "metadata": {},
   "source": [
    "# 1. Lets Check Store Vs. Weekly sale"
   ]
  },
  {
   "cell_type": "code",
   "execution_count": 151,
   "id": "a824a495",
   "metadata": {},
   "outputs": [
    {
     "data": {
      "image/png": "[encoded data removed]",
      "text/plain": [
       "<Figure size 1000x600 with 1 Axes>"
      ]
     },
     "metadata": {},
     "output_type": "display_data"
    }
   ],
   "source": [
    "sale_per_store = data.groupby('Store')['Weekly_Sales'].mean().reset_index().sort_values(by='Weekly_Sales', ascending=False)\n",
    "plt.figure(figsize=(10, 6))\n",
    "plt.bar(sale_per_store['Store'], sale_per_store['Weekly_Sales'], color='skyblue')\n",
    "plt.xlabel('Store')\n",
    "plt.ylabel('Avg Weekly Sales')\n",
    "plt.title('Avg Weekly Sales per Store')\n",
    "plt.xticks(rotation=0)\n",
    "plt.show()"
   ]
  },
  {
   "cell_type": "code",
   "execution_count": 152,
   "id": "00cdd76c",
   "metadata": {},
   "outputs": [],
   "source": [
    "\n",
    "Most_sales=sale_per_store.head(5)\n",
    "Least_sales=sale_per_store.tail(5)"
   ]
  },
  {
   "cell_type": "code",
   "execution_count": 154,
   "id": "20239686",
   "metadata": {},
   "outputs": [
    {
     "data": {
      "text/plain": [
       "([<matplotlib.axis.XTick at 0x111d94bb0>,\n",
       "  <matplotlib.axis.XTick at 0x111d94b80>,\n",
       "  <matplotlib.axis.XTick at 0x111d943d0>,\n",
       "  <matplotlib.axis.XTick at 0x111dcd7c0>,\n",
       "  <matplotlib.axis.XTick at 0x111dd42b0>],\n",
       " [Text(20, 0, '20'),\n",
       "  Text(4, 0, '4'),\n",
       "  Text(14, 0, '14'),\n",
       "  Text(13, 0, '13'),\n",
       "  Text(2, 0, '2')])"
      ]
     },
     "execution_count": 154,
     "metadata": {},
     "output_type": "execute_result"
    },
    {
     "data": {
      "image/png": "[encoded data removed]",
      "text/plain": [
       "<Figure size 1000x600 with 1 Axes>"
      ]
     },
     "metadata": {},
     "output_type": "display_data"
    }
   ],
   "source": [
    "plt.figure(figsize=(10, 6))\n",
    "\n",
    "plt.bar(Most_sales['Store'], Most_sales['Weekly_Sales'], color='green')\n",
    "plt.xlabel('Store')\n",
    "plt.ylabel('Avg Weekly Sales')\n",
    "plt.title('Avg Weekly Sales per Store')\n",
    "plt.xticks(Most_sales['Store'],rotation=0)\n"
   ]
  },
  {
   "cell_type": "code",
   "execution_count": 155,
   "id": "72680a80",
   "metadata": {},
   "outputs": [
    {
     "data": {
      "text/plain": [
       "([<matplotlib.axis.YTick at 0x111e17c70>,\n",
       "  <matplotlib.axis.YTick at 0x111e17610>,\n",
       "  <matplotlib.axis.YTick at 0x111e0fb20>,\n",
       "  <matplotlib.axis.YTick at 0x111e4bb80>,\n",
       "  <matplotlib.axis.YTick at 0x111e59c40>],\n",
       " [Text(0, 402704.44104895106, '402704'),\n",
       "  Text(0, 373511.9927972028, '373512'),\n",
       "  Text(0, 318011.8104895105, '318012'),\n",
       "  Text(0, 302748.86601398606, '302749'),\n",
       "  Text(0, 259861.69202797202, '259862')])"
      ]
     },
     "execution_count": 155,
     "metadata": {},
     "output_type": "execute_result"
    },
    {
     "data": {
      "image/png": "[encoded data removed]",
      "text/plain": [
       "<Figure size 1000x600 with 1 Axes>"
      ]
     },
     "metadata": {},
     "output_type": "display_data"
    }
   ],
   "source": [
    "plt.figure(figsize=(10, 6))\n",
    "\n",
    "plt.bar(Least_sales['Store'],Least_sales['Weekly_Sales'], color='red')\n",
    "plt.xlabel('Store')\n",
    "plt.ylabel('Avg Weekly Sales')\n",
    "plt.title('Avg Weekly Sales per Store')\n",
    "plt.xticks(Least_sales['Store'],rotation=0)\n",
    "plt.yticks(Least_sales['Weekly_Sales'],rotation=0)"
   ]
  },
  {
   "cell_type": "markdown",
   "id": "52205d65",
   "metadata": {},
   "source": [
    "# 2. Effect of Unemployement on Weekly Sale"
   ]
  },
  {
   "cell_type": "code",
   "execution_count": 102,
   "id": "5cc8f735",
   "metadata": {},
   "outputs": [
    {
     "data": {
      "text/html": [
       "<div>\n",
       "<style scoped>\n",
       "    .dataframe tbody tr th:only-of-type {\n",
       "        vertical-align: middle;\n",
       "    }\n",
       "\n",
       "    .dataframe tbody tr th {\n",
       "        vertical-align: top;\n",
       "    }\n",
       "\n",
       "    .dataframe thead th {\n",
       "        text-align: right;\n",
       "    }\n",
       "</style>\n",
       "<table border=\"1\" class=\"dataframe\">\n",
       "  <thead>\n",
       "    <tr style=\"text-align: right;\">\n",
       "      <th></th>\n",
       "      <th>Store</th>\n",
       "      <th>Weekly_Sales</th>\n",
       "      <th>Holiday_Flag</th>\n",
       "      <th>Temperature</th>\n",
       "      <th>Fuel_Price</th>\n",
       "      <th>CPI</th>\n",
       "      <th>Unemployment</th>\n",
       "    </tr>\n",
       "  </thead>\n",
       "  <tbody>\n",
       "    <tr>\n",
       "      <th>count</th>\n",
       "      <td>5920.000000</td>\n",
       "      <td>5.920000e+03</td>\n",
       "      <td>5920.000000</td>\n",
       "      <td>5920.000000</td>\n",
       "      <td>5920.000000</td>\n",
       "      <td>5920.000000</td>\n",
       "      <td>5920.000000</td>\n",
       "    </tr>\n",
       "    <tr>\n",
       "      <th>mean</th>\n",
       "      <td>22.798142</td>\n",
       "      <td>1.039202e+06</td>\n",
       "      <td>0.069088</td>\n",
       "      <td>60.404422</td>\n",
       "      <td>3.340395</td>\n",
       "      <td>175.010815</td>\n",
       "      <td>7.722377</td>\n",
       "    </tr>\n",
       "    <tr>\n",
       "      <th>std</th>\n",
       "      <td>13.092635</td>\n",
       "      <td>5.518484e+05</td>\n",
       "      <td>0.253625</td>\n",
       "      <td>18.427013</td>\n",
       "      <td>0.458143</td>\n",
       "      <td>39.022611</td>\n",
       "      <td>1.243156</td>\n",
       "    </tr>\n",
       "    <tr>\n",
       "      <th>min</th>\n",
       "      <td>1.000000</td>\n",
       "      <td>2.099862e+05</td>\n",
       "      <td>0.000000</td>\n",
       "      <td>-2.060000</td>\n",
       "      <td>2.472000</td>\n",
       "      <td>126.064000</td>\n",
       "      <td>4.308000</td>\n",
       "    </tr>\n",
       "    <tr>\n",
       "      <th>25%</th>\n",
       "      <td>11.000000</td>\n",
       "      <td>5.526404e+05</td>\n",
       "      <td>0.000000</td>\n",
       "      <td>46.965000</td>\n",
       "      <td>2.891000</td>\n",
       "      <td>132.766139</td>\n",
       "      <td>6.891000</td>\n",
       "    </tr>\n",
       "    <tr>\n",
       "      <th>50%</th>\n",
       "      <td>22.000000</td>\n",
       "      <td>9.469219e+05</td>\n",
       "      <td>0.000000</td>\n",
       "      <td>62.610000</td>\n",
       "      <td>3.418500</td>\n",
       "      <td>190.006988</td>\n",
       "      <td>7.852000</td>\n",
       "    </tr>\n",
       "    <tr>\n",
       "      <th>75%</th>\n",
       "      <td>34.000000</td>\n",
       "      <td>1.427444e+06</td>\n",
       "      <td>0.000000</td>\n",
       "      <td>74.722500</td>\n",
       "      <td>3.721000</td>\n",
       "      <td>213.793561</td>\n",
       "      <td>8.494000</td>\n",
       "    </tr>\n",
       "    <tr>\n",
       "      <th>max</th>\n",
       "      <td>45.000000</td>\n",
       "      <td>2.685352e+06</td>\n",
       "      <td>1.000000</td>\n",
       "      <td>100.140000</td>\n",
       "      <td>4.468000</td>\n",
       "      <td>227.232807</td>\n",
       "      <td>10.926000</td>\n",
       "    </tr>\n",
       "  </tbody>\n",
       "</table>\n",
       "</div>"
      ],
      "text/plain": [
       "             Store  Weekly_Sales  Holiday_Flag  Temperature   Fuel_Price  \\\n",
       "count  5920.000000  5.920000e+03   5920.000000  5920.000000  5920.000000   \n",
       "mean     22.798142  1.039202e+06      0.069088    60.404422     3.340395   \n",
       "std      13.092635  5.518484e+05      0.253625    18.427013     0.458143   \n",
       "min       1.000000  2.099862e+05      0.000000    -2.060000     2.472000   \n",
       "25%      11.000000  5.526404e+05      0.000000    46.965000     2.891000   \n",
       "50%      22.000000  9.469219e+05      0.000000    62.610000     3.418500   \n",
       "75%      34.000000  1.427444e+06      0.000000    74.722500     3.721000   \n",
       "max      45.000000  2.685352e+06      1.000000   100.140000     4.468000   \n",
       "\n",
       "               CPI  Unemployment  \n",
       "count  5920.000000   5920.000000  \n",
       "mean    175.010815      7.722377  \n",
       "std      39.022611      1.243156  \n",
       "min     126.064000      4.308000  \n",
       "25%     132.766139      6.891000  \n",
       "50%     190.006988      7.852000  \n",
       "75%     213.793561      8.494000  \n",
       "max     227.232807     10.926000  "
      ]
     },
     "execution_count": 102,
     "metadata": {},
     "output_type": "execute_result"
    }
   ],
   "source": [
    "df=data.copy()\n",
    "df.describe()"
   ]
  },
  {
   "cell_type": "code",
   "execution_count": 105,
   "id": "e21949c1",
   "metadata": {},
   "outputs": [
    {
     "name": "stdout",
     "output_type": "stream",
     "text": [
      "  Unemployment_Rate_Cat  count\n",
      "0                   4-6    515\n",
      "1                 6.1-8   2774\n",
      "2                8.1-10   2380\n",
      "3               10.1-12    251\n"
     ]
    },
    {
     "data": {
      "text/html": [
       "<div>\n",
       "<style scoped>\n",
       "    .dataframe tbody tr th:only-of-type {\n",
       "        vertical-align: middle;\n",
       "    }\n",
       "\n",
       "    .dataframe tbody tr th {\n",
       "        vertical-align: top;\n",
       "    }\n",
       "\n",
       "    .dataframe thead th {\n",
       "        text-align: right;\n",
       "    }\n",
       "</style>\n",
       "<table border=\"1\" class=\"dataframe\">\n",
       "  <thead>\n",
       "    <tr style=\"text-align: right;\">\n",
       "      <th></th>\n",
       "      <th>Store</th>\n",
       "      <th>Date</th>\n",
       "      <th>Weekly_Sales</th>\n",
       "      <th>Holiday_Flag</th>\n",
       "      <th>Temperature</th>\n",
       "      <th>Fuel_Price</th>\n",
       "      <th>CPI</th>\n",
       "      <th>Unemployment</th>\n",
       "      <th>Unemployment_Rate_Cat</th>\n",
       "    </tr>\n",
       "  </thead>\n",
       "  <tbody>\n",
       "    <tr>\n",
       "      <th>0</th>\n",
       "      <td>1</td>\n",
       "      <td>05-02-2010</td>\n",
       "      <td>1643690.90</td>\n",
       "      <td>0</td>\n",
       "      <td>42.31</td>\n",
       "      <td>2.572</td>\n",
       "      <td>211.096358</td>\n",
       "      <td>8.106</td>\n",
       "      <td>8.1-10</td>\n",
       "    </tr>\n",
       "    <tr>\n",
       "      <th>1</th>\n",
       "      <td>1</td>\n",
       "      <td>12-02-2010</td>\n",
       "      <td>1641957.44</td>\n",
       "      <td>1</td>\n",
       "      <td>38.51</td>\n",
       "      <td>2.548</td>\n",
       "      <td>211.242170</td>\n",
       "      <td>8.106</td>\n",
       "      <td>8.1-10</td>\n",
       "    </tr>\n",
       "    <tr>\n",
       "      <th>2</th>\n",
       "      <td>1</td>\n",
       "      <td>19-02-2010</td>\n",
       "      <td>1611968.17</td>\n",
       "      <td>0</td>\n",
       "      <td>39.93</td>\n",
       "      <td>2.514</td>\n",
       "      <td>211.289143</td>\n",
       "      <td>8.106</td>\n",
       "      <td>8.1-10</td>\n",
       "    </tr>\n",
       "    <tr>\n",
       "      <th>3</th>\n",
       "      <td>1</td>\n",
       "      <td>26-02-2010</td>\n",
       "      <td>1409727.59</td>\n",
       "      <td>0</td>\n",
       "      <td>46.63</td>\n",
       "      <td>2.561</td>\n",
       "      <td>211.319643</td>\n",
       "      <td>8.106</td>\n",
       "      <td>8.1-10</td>\n",
       "    </tr>\n",
       "    <tr>\n",
       "      <th>4</th>\n",
       "      <td>1</td>\n",
       "      <td>05-03-2010</td>\n",
       "      <td>1554806.68</td>\n",
       "      <td>0</td>\n",
       "      <td>46.50</td>\n",
       "      <td>2.625</td>\n",
       "      <td>211.350143</td>\n",
       "      <td>8.106</td>\n",
       "      <td>8.1-10</td>\n",
       "    </tr>\n",
       "  </tbody>\n",
       "</table>\n",
       "</div>"
      ],
      "text/plain": [
       "   Store        Date  Weekly_Sales  Holiday_Flag  Temperature  Fuel_Price  \\\n",
       "0      1  05-02-2010    1643690.90             0        42.31       2.572   \n",
       "1      1  12-02-2010    1641957.44             1        38.51       2.548   \n",
       "2      1  19-02-2010    1611968.17             0        39.93       2.514   \n",
       "3      1  26-02-2010    1409727.59             0        46.63       2.561   \n",
       "4      1  05-03-2010    1554806.68             0        46.50       2.625   \n",
       "\n",
       "          CPI  Unemployment Unemployment_Rate_Cat  \n",
       "0  211.096358         8.106                8.1-10  \n",
       "1  211.242170         8.106                8.1-10  \n",
       "2  211.289143         8.106                8.1-10  \n",
       "3  211.319643         8.106                8.1-10  \n",
       "4  211.350143         8.106                8.1-10  "
      ]
     },
     "execution_count": 105,
     "metadata": {},
     "output_type": "execute_result"
    }
   ],
   "source": [
    "bins1=[4,6,8,10,12] # Creating the bins and labels to store the values\n",
    "labels1=['4-6','6.1-8','8.1-10','10.1-12']\n",
    "\n",
    "df['Unemployment_Rate_Cat']= pd.cut(df['Unemployment'],bins=bins1,labels=labels1)\n",
    "\n",
    "un_counts=df['Unemployment_Rate_Cat'].value_counts().sort_index().reset_index()\n",
    "\n",
    "print(un_counts)\n",
    "df.head()\n",
    "\n"
   ]
  },
  {
   "cell_type": "code",
   "execution_count": 106,
   "id": "0f912def",
   "metadata": {},
   "outputs": [
    {
     "data": {
      "text/plain": [
       "Store                    0\n",
       "Date                     0\n",
       "Weekly_Sales             0\n",
       "Holiday_Flag             0\n",
       "Temperature              0\n",
       "Fuel_Price               0\n",
       "CPI                      0\n",
       "Unemployment             0\n",
       "Unemployment_Rate_Cat    0\n",
       "dtype: int64"
      ]
     },
     "execution_count": 106,
     "metadata": {},
     "output_type": "execute_result"
    }
   ],
   "source": [
    "df.isnull().sum()\n"
   ]
  },
  {
   "cell_type": "code",
   "execution_count": 170,
   "id": "e5c6a9ad",
   "metadata": {},
   "outputs": [
    {
     "name": "stderr",
     "output_type": "stream",
     "text": [
      "/var/folders/pm/_x3_30fx12v1cmg1svz1jjd40000gn/T/ipykernel_28495/2345946932.py:1: FutureWarning: The default of observed=False is deprecated and will be changed to True in a future version of pandas. Pass observed=False to retain current behavior or observed=True to adopt the future default and silence this warning.\n",
      "  Un_Employment_Sales=df.groupby(\"Unemployment_Rate_Cat\")['Weekly_Sales'].sum().reset_index()\n"
     ]
    },
    {
     "data": {
      "image/png": "[encoded data removed]",
      "text/plain": [
       "<Figure size 600x600 with 1 Axes>"
      ]
     },
     "metadata": {},
     "output_type": "display_data"
    }
   ],
   "source": [
    "Un_Employment_Sales=df.groupby(\"Unemployment_Rate_Cat\")['Weekly_Sales'].sum().reset_index()\n",
    "\n",
    "plt.figure(figsize=(6, 6))\n",
    "sns.barplot(x='Unemployment_Rate_Cat', y='Weekly_Sales', data=Un_Employment_Sales, color='skyblue')\n",
    "plt.xlabel('Unemployment Rate Category')\n",
    "plt.ylabel('Total  Sales')\n",
    "plt.title('Total Sales by Unemployment Rate Category')\n",
    "plt.xticks(rotation=0)\n",
    "plt.show()\n",
    "\n",
    "\n"
   ]
  },
  {
   "cell_type": "code",
   "execution_count": 169,
   "id": "4be7bad4",
   "metadata": {},
   "outputs": [
    {
     "data": {
      "text/plain": [
       "<Axes: >"
      ]
     },
     "execution_count": 169,
     "metadata": {},
     "output_type": "execute_result"
    },
    {
     "data": {
      "image/png": "[encoded data removed]",
      "text/plain": [
       "<Figure size 640x480 with 2 Axes>"
      ]
     },
     "metadata": {},
     "output_type": "display_data"
    }
   ],
   "source": [
    "correlation = df[['Weekly_Sales', 'Unemployment']].corr()\n",
    "sns.heatmap(correlation,annot=True)"
   ]
  },
  {
   "cell_type": "markdown",
   "id": "64742e87",
   "metadata": {},
   "source": [
    "Observation: It can be seen here for unemployment rate 6-8 the sale is maximum. Afterwards, sale is decreasing.\n",
    "Hence, Sales and Unemployement are negatively correlated."
   ]
  },
  {
   "cell_type": "markdown",
   "id": "0fb4b1cf",
   "metadata": {},
   "source": [
    "# 3. Does temperature affect the weekly sales in any manner?"
   ]
  },
  {
   "cell_type": "code",
   "execution_count": 64,
   "id": "8b438ddf",
   "metadata": {},
   "outputs": [
    {
     "data": {
      "text/html": [
       "<div>\n",
       "<style scoped>\n",
       "    .dataframe tbody tr th:only-of-type {\n",
       "        vertical-align: middle;\n",
       "    }\n",
       "\n",
       "    .dataframe tbody tr th {\n",
       "        vertical-align: top;\n",
       "    }\n",
       "\n",
       "    .dataframe thead th {\n",
       "        text-align: right;\n",
       "    }\n",
       "</style>\n",
       "<table border=\"1\" class=\"dataframe\">\n",
       "  <thead>\n",
       "    <tr style=\"text-align: right;\">\n",
       "      <th></th>\n",
       "      <th>Store</th>\n",
       "      <th>Date</th>\n",
       "      <th>Weekly_Sales</th>\n",
       "      <th>Holiday_Flag</th>\n",
       "      <th>Temperature</th>\n",
       "      <th>Fuel_Price</th>\n",
       "      <th>CPI</th>\n",
       "      <th>Unemployment</th>\n",
       "    </tr>\n",
       "  </thead>\n",
       "  <tbody>\n",
       "    <tr>\n",
       "      <th>0</th>\n",
       "      <td>1</td>\n",
       "      <td>2010-02-05</td>\n",
       "      <td>1643690.90</td>\n",
       "      <td>0</td>\n",
       "      <td>42.31</td>\n",
       "      <td>2.572</td>\n",
       "      <td>211.096358</td>\n",
       "      <td>8.106</td>\n",
       "    </tr>\n",
       "    <tr>\n",
       "      <th>1</th>\n",
       "      <td>1</td>\n",
       "      <td>2010-02-12</td>\n",
       "      <td>1641957.44</td>\n",
       "      <td>1</td>\n",
       "      <td>38.51</td>\n",
       "      <td>2.548</td>\n",
       "      <td>211.242170</td>\n",
       "      <td>8.106</td>\n",
       "    </tr>\n",
       "    <tr>\n",
       "      <th>2</th>\n",
       "      <td>1</td>\n",
       "      <td>2010-02-19</td>\n",
       "      <td>1611968.17</td>\n",
       "      <td>0</td>\n",
       "      <td>39.93</td>\n",
       "      <td>2.514</td>\n",
       "      <td>211.289143</td>\n",
       "      <td>8.106</td>\n",
       "    </tr>\n",
       "    <tr>\n",
       "      <th>3</th>\n",
       "      <td>1</td>\n",
       "      <td>2010-02-26</td>\n",
       "      <td>1409727.59</td>\n",
       "      <td>0</td>\n",
       "      <td>46.63</td>\n",
       "      <td>2.561</td>\n",
       "      <td>211.319643</td>\n",
       "      <td>8.106</td>\n",
       "    </tr>\n",
       "    <tr>\n",
       "      <th>4</th>\n",
       "      <td>1</td>\n",
       "      <td>2010-03-05</td>\n",
       "      <td>1554806.68</td>\n",
       "      <td>0</td>\n",
       "      <td>46.50</td>\n",
       "      <td>2.625</td>\n",
       "      <td>211.350143</td>\n",
       "      <td>8.106</td>\n",
       "    </tr>\n",
       "  </tbody>\n",
       "</table>\n",
       "</div>"
      ],
      "text/plain": [
       "   Store       Date  Weekly_Sales  Holiday_Flag  Temperature  Fuel_Price  \\\n",
       "0      1 2010-02-05    1643690.90             0        42.31       2.572   \n",
       "1      1 2010-02-12    1641957.44             1        38.51       2.548   \n",
       "2      1 2010-02-19    1611968.17             0        39.93       2.514   \n",
       "3      1 2010-02-26    1409727.59             0        46.63       2.561   \n",
       "4      1 2010-03-05    1554806.68             0        46.50       2.625   \n",
       "\n",
       "          CPI  Unemployment  \n",
       "0  211.096358         8.106  \n",
       "1  211.242170         8.106  \n",
       "2  211.289143         8.106  \n",
       "3  211.319643         8.106  \n",
       "4  211.350143         8.106  "
      ]
     },
     "execution_count": 64,
     "metadata": {},
     "output_type": "execute_result"
    }
   ],
   "source": [
    "df2=data.copy()\n",
    "df2.head()"
   ]
  },
  {
   "cell_type": "code",
   "execution_count": 65,
   "id": "a7941f35",
   "metadata": {},
   "outputs": [
    {
     "data": {
      "text/plain": [
       "np.float64(-2.06)"
      ]
     },
     "execution_count": 65,
     "metadata": {},
     "output_type": "execute_result"
    }
   ],
   "source": [
    "df2[\"Temperature\"].min()"
   ]
  },
  {
   "cell_type": "code",
   "execution_count": 66,
   "id": "c614cf5f",
   "metadata": {},
   "outputs": [
    {
     "data": {
      "text/plain": [
       "np.float64(100.14)"
      ]
     },
     "execution_count": 66,
     "metadata": {},
     "output_type": "execute_result"
    }
   ],
   "source": [
    "df2[\"Temperature\"].max()"
   ]
  },
  {
   "cell_type": "code",
   "execution_count": 156,
   "id": "ae2d4d80",
   "metadata": {},
   "outputs": [
    {
     "name": "stdout",
     "output_type": "stream",
     "text": [
      "Temp_Cat\n",
      "(-5)-0       1\n",
      "1-10         5\n",
      "11-20       78\n",
      "21-30      305\n",
      "31-40      556\n",
      "41-50      796\n",
      "51-60      960\n",
      "61-70     1131\n",
      "71-80     1154\n",
      "81-90      807\n",
      "91-101     127\n",
      "Name: count, dtype: int64\n"
     ]
    }
   ],
   "source": [
    "\n",
    "\n",
    "\n",
    "bins = [-5,0,10, 20, 30, 40, 50, 60, 70, 80, 90, 101]\n",
    "temp_label = ['(-5)-0','1-10','11-20', '21-30', '31-40', '41-50', '51-60', '61-70', '71-80', '81-90', '91-101']\n",
    "df2['Temp_Cat'] = pd.cut(df2[\"Temperature\"], bins=bins, labels=temp_label)\n",
    "temp_counts = df2['Temp_Cat'].value_counts().sort_index()\n",
    "print(temp_counts)\n"
   ]
  },
  {
   "cell_type": "code",
   "execution_count": 114,
   "id": "9a612e11",
   "metadata": {},
   "outputs": [
    {
     "data": {
      "text/html": [
       "<div>\n",
       "<style scoped>\n",
       "    .dataframe tbody tr th:only-of-type {\n",
       "        vertical-align: middle;\n",
       "    }\n",
       "\n",
       "    .dataframe tbody tr th {\n",
       "        vertical-align: top;\n",
       "    }\n",
       "\n",
       "    .dataframe thead th {\n",
       "        text-align: right;\n",
       "    }\n",
       "</style>\n",
       "<table border=\"1\" class=\"dataframe\">\n",
       "  <thead>\n",
       "    <tr style=\"text-align: right;\">\n",
       "      <th></th>\n",
       "      <th>Store</th>\n",
       "      <th>Date</th>\n",
       "      <th>Weekly_Sales</th>\n",
       "      <th>Holiday_Flag</th>\n",
       "      <th>Temperature</th>\n",
       "      <th>Fuel_Price</th>\n",
       "      <th>CPI</th>\n",
       "      <th>Unemployment</th>\n",
       "      <th>Temp_Cat</th>\n",
       "    </tr>\n",
       "  </thead>\n",
       "  <tbody>\n",
       "    <tr>\n",
       "      <th>0</th>\n",
       "      <td>1</td>\n",
       "      <td>2010-02-05</td>\n",
       "      <td>1643690.90</td>\n",
       "      <td>0</td>\n",
       "      <td>42.31</td>\n",
       "      <td>2.572</td>\n",
       "      <td>211.096358</td>\n",
       "      <td>8.106</td>\n",
       "      <td>41-50</td>\n",
       "    </tr>\n",
       "    <tr>\n",
       "      <th>1</th>\n",
       "      <td>1</td>\n",
       "      <td>2010-02-12</td>\n",
       "      <td>1641957.44</td>\n",
       "      <td>1</td>\n",
       "      <td>38.51</td>\n",
       "      <td>2.548</td>\n",
       "      <td>211.242170</td>\n",
       "      <td>8.106</td>\n",
       "      <td>31-40</td>\n",
       "    </tr>\n",
       "    <tr>\n",
       "      <th>2</th>\n",
       "      <td>1</td>\n",
       "      <td>2010-02-19</td>\n",
       "      <td>1611968.17</td>\n",
       "      <td>0</td>\n",
       "      <td>39.93</td>\n",
       "      <td>2.514</td>\n",
       "      <td>211.289143</td>\n",
       "      <td>8.106</td>\n",
       "      <td>31-40</td>\n",
       "    </tr>\n",
       "    <tr>\n",
       "      <th>3</th>\n",
       "      <td>1</td>\n",
       "      <td>2010-02-26</td>\n",
       "      <td>1409727.59</td>\n",
       "      <td>0</td>\n",
       "      <td>46.63</td>\n",
       "      <td>2.561</td>\n",
       "      <td>211.319643</td>\n",
       "      <td>8.106</td>\n",
       "      <td>41-50</td>\n",
       "    </tr>\n",
       "    <tr>\n",
       "      <th>4</th>\n",
       "      <td>1</td>\n",
       "      <td>2010-03-05</td>\n",
       "      <td>1554806.68</td>\n",
       "      <td>0</td>\n",
       "      <td>46.50</td>\n",
       "      <td>2.625</td>\n",
       "      <td>211.350143</td>\n",
       "      <td>8.106</td>\n",
       "      <td>41-50</td>\n",
       "    </tr>\n",
       "  </tbody>\n",
       "</table>\n",
       "</div>"
      ],
      "text/plain": [
       "   Store       Date  Weekly_Sales  Holiday_Flag  Temperature  Fuel_Price  \\\n",
       "0      1 2010-02-05    1643690.90             0        42.31       2.572   \n",
       "1      1 2010-02-12    1641957.44             1        38.51       2.548   \n",
       "2      1 2010-02-19    1611968.17             0        39.93       2.514   \n",
       "3      1 2010-02-26    1409727.59             0        46.63       2.561   \n",
       "4      1 2010-03-05    1554806.68             0        46.50       2.625   \n",
       "\n",
       "          CPI  Unemployment Temp_Cat  \n",
       "0  211.096358         8.106    41-50  \n",
       "1  211.242170         8.106    31-40  \n",
       "2  211.289143         8.106    31-40  \n",
       "3  211.319643         8.106    41-50  \n",
       "4  211.350143         8.106    41-50  "
      ]
     },
     "execution_count": 114,
     "metadata": {},
     "output_type": "execute_result"
    }
   ],
   "source": [
    "df2.head()"
   ]
  },
  {
   "cell_type": "code",
   "execution_count": 115,
   "id": "361756bd",
   "metadata": {},
   "outputs": [
    {
     "data": {
      "text/plain": [
       "Store           0\n",
       "Date            0\n",
       "Weekly_Sales    0\n",
       "Holiday_Flag    0\n",
       "Temperature     0\n",
       "Fuel_Price      0\n",
       "CPI             0\n",
       "Unemployment    0\n",
       "Temp_Cat        0\n",
       "dtype: int64"
      ]
     },
     "execution_count": 115,
     "metadata": {},
     "output_type": "execute_result"
    }
   ],
   "source": [
    "#df1['Temp_Cat']=df1['Temp_Cat'].dropna().axis =1\n",
    "df2.isnull().sum()"
   ]
  },
  {
   "cell_type": "code",
   "execution_count": 173,
   "id": "ac002d29",
   "metadata": {},
   "outputs": [
    {
     "name": "stderr",
     "output_type": "stream",
     "text": [
      "/var/folders/pm/_x3_30fx12v1cmg1svz1jjd40000gn/T/ipykernel_28495/2066928580.py:1: FutureWarning: The default of observed=False is deprecated and will be changed to True in a future version of pandas. Pass observed=False to retain current behavior or observed=True to adopt the future default and silence this warning.\n",
      "  temp_sales = df2.groupby('Temp_Cat')['Weekly_Sales'].sum().reset_index()\n"
     ]
    },
    {
     "data": {
      "text/html": [
       "<div>\n",
       "<style scoped>\n",
       "    .dataframe tbody tr th:only-of-type {\n",
       "        vertical-align: middle;\n",
       "    }\n",
       "\n",
       "    .dataframe tbody tr th {\n",
       "        vertical-align: top;\n",
       "    }\n",
       "\n",
       "    .dataframe thead th {\n",
       "        text-align: right;\n",
       "    }\n",
       "</style>\n",
       "<table border=\"1\" class=\"dataframe\">\n",
       "  <thead>\n",
       "    <tr style=\"text-align: right;\">\n",
       "      <th></th>\n",
       "      <th>Temp_Cat</th>\n",
       "      <th>Weekly_Sales</th>\n",
       "    </tr>\n",
       "  </thead>\n",
       "  <tbody>\n",
       "    <tr>\n",
       "      <th>0</th>\n",
       "      <td>(-5)-0</td>\n",
       "      <td>5.580278e+05</td>\n",
       "    </tr>\n",
       "    <tr>\n",
       "      <th>1</th>\n",
       "      <td>1-10</td>\n",
       "      <td>4.304461e+06</td>\n",
       "    </tr>\n",
       "    <tr>\n",
       "      <th>2</th>\n",
       "      <td>11-20</td>\n",
       "      <td>6.592093e+07</td>\n",
       "    </tr>\n",
       "    <tr>\n",
       "      <th>3</th>\n",
       "      <td>21-30</td>\n",
       "      <td>3.105905e+08</td>\n",
       "    </tr>\n",
       "    <tr>\n",
       "      <th>4</th>\n",
       "      <td>31-40</td>\n",
       "      <td>6.090936e+08</td>\n",
       "    </tr>\n",
       "    <tr>\n",
       "      <th>5</th>\n",
       "      <td>41-50</td>\n",
       "      <td>8.664387e+08</td>\n",
       "    </tr>\n",
       "    <tr>\n",
       "      <th>6</th>\n",
       "      <td>51-60</td>\n",
       "      <td>9.917823e+08</td>\n",
       "    </tr>\n",
       "    <tr>\n",
       "      <th>7</th>\n",
       "      <td>61-70</td>\n",
       "      <td>1.195554e+09</td>\n",
       "    </tr>\n",
       "    <tr>\n",
       "      <th>8</th>\n",
       "      <td>71-80</td>\n",
       "      <td>1.226182e+09</td>\n",
       "    </tr>\n",
       "    <tr>\n",
       "      <th>9</th>\n",
       "      <td>81-90</td>\n",
       "      <td>7.840355e+08</td>\n",
       "    </tr>\n",
       "    <tr>\n",
       "      <th>10</th>\n",
       "      <td>91-101</td>\n",
       "      <td>9.761368e+07</td>\n",
       "    </tr>\n",
       "  </tbody>\n",
       "</table>\n",
       "</div>"
      ],
      "text/plain": [
       "   Temp_Cat  Weekly_Sales\n",
       "0    (-5)-0  5.580278e+05\n",
       "1      1-10  4.304461e+06\n",
       "2     11-20  6.592093e+07\n",
       "3     21-30  3.105905e+08\n",
       "4     31-40  6.090936e+08\n",
       "5     41-50  8.664387e+08\n",
       "6     51-60  9.917823e+08\n",
       "7     61-70  1.195554e+09\n",
       "8     71-80  1.226182e+09\n",
       "9     81-90  7.840355e+08\n",
       "10   91-101  9.761368e+07"
      ]
     },
     "execution_count": 173,
     "metadata": {},
     "output_type": "execute_result"
    }
   ],
   "source": [
    "temp_sales = df2.groupby('Temp_Cat')['Weekly_Sales'].sum().reset_index()\n",
    "\n",
    "temp_sales"
   ]
  },
  {
   "cell_type": "code",
   "execution_count": 174,
   "id": "a1675baa",
   "metadata": {},
   "outputs": [
    {
     "data": {
      "image/png": "[encoded data removed]",
      "text/plain": [
       "<Figure size 1000x600 with 1 Axes>"
      ]
     },
     "metadata": {},
     "output_type": "display_data"
    }
   ],
   "source": [
    "\n",
    "\n",
    "plt.figure(figsize=(10, 6))\n",
    "plt.bar(temp_sales['Temp_Cat'], temp_sales['Weekly_Sales'], color='skyblue')\n",
    "plt.xlabel('Temperature Category')\n",
    "plt.ylabel('Total Sales')\n",
    "plt.title('Total  Sales by Temperature Category')\n",
    "plt.xticks(rotation=90)\n",
    "plt.show()\n",
    "\n"
   ]
  },
  {
   "cell_type": "code",
   "execution_count": 125,
   "id": "d9dd3558",
   "metadata": {},
   "outputs": [
    {
     "data": {
      "text/plain": [
       "<Axes: >"
      ]
     },
     "execution_count": 125,
     "metadata": {},
     "output_type": "execute_result"
    },
    {
     "data": {
      "image/png": "[encoded data removed]",
      "text/plain": [
       "<Figure size 640x480 with 2 Axes>"
      ]
     },
     "metadata": {},
     "output_type": "display_data"
    }
   ],
   "source": [
    "corr_temp = df2[['Weekly_Sales', 'Temperature']].corr()\n",
    "sns.heatmap(corr_temp,annot=True)\n"
   ]
  },
  {
   "cell_type": "markdown",
   "id": "ce8c79e2",
   "metadata": {},
   "source": [
    "It can be seen that sales are very low when temperature is very low or very high.\n",
    "\n",
    "Sales is found to be  increasing when temperature is increasing\n",
    "\n",
    "Sale is at peak when temperature lies in range (71-80)"
   ]
  },
  {
   "cell_type": "markdown",
   "id": "43f9f6d5",
   "metadata": {},
   "source": [
    "# 4. How is the Consumer Price index affecting the weekly sales of various stores?"
   ]
  },
  {
   "cell_type": "code",
   "execution_count": 130,
   "id": "6f3e25e8",
   "metadata": {},
   "outputs": [
    {
     "data": {
      "text/html": [
       "<div>\n",
       "<style scoped>\n",
       "    .dataframe tbody tr th:only-of-type {\n",
       "        vertical-align: middle;\n",
       "    }\n",
       "\n",
       "    .dataframe tbody tr th {\n",
       "        vertical-align: top;\n",
       "    }\n",
       "\n",
       "    .dataframe thead th {\n",
       "        text-align: right;\n",
       "    }\n",
       "</style>\n",
       "<table border=\"1\" class=\"dataframe\">\n",
       "  <thead>\n",
       "    <tr style=\"text-align: right;\">\n",
       "      <th></th>\n",
       "      <th>Store</th>\n",
       "      <th>Date</th>\n",
       "      <th>Weekly_Sales</th>\n",
       "      <th>Holiday_Flag</th>\n",
       "      <th>Temperature</th>\n",
       "      <th>Fuel_Price</th>\n",
       "      <th>CPI</th>\n",
       "      <th>Unemployment</th>\n",
       "    </tr>\n",
       "  </thead>\n",
       "  <tbody>\n",
       "    <tr>\n",
       "      <th>0</th>\n",
       "      <td>1</td>\n",
       "      <td>05-02-2010</td>\n",
       "      <td>1643690.90</td>\n",
       "      <td>0</td>\n",
       "      <td>42.31</td>\n",
       "      <td>2.572</td>\n",
       "      <td>211.096358</td>\n",
       "      <td>8.106</td>\n",
       "    </tr>\n",
       "    <tr>\n",
       "      <th>1</th>\n",
       "      <td>1</td>\n",
       "      <td>12-02-2010</td>\n",
       "      <td>1641957.44</td>\n",
       "      <td>1</td>\n",
       "      <td>38.51</td>\n",
       "      <td>2.548</td>\n",
       "      <td>211.242170</td>\n",
       "      <td>8.106</td>\n",
       "    </tr>\n",
       "    <tr>\n",
       "      <th>2</th>\n",
       "      <td>1</td>\n",
       "      <td>19-02-2010</td>\n",
       "      <td>1611968.17</td>\n",
       "      <td>0</td>\n",
       "      <td>39.93</td>\n",
       "      <td>2.514</td>\n",
       "      <td>211.289143</td>\n",
       "      <td>8.106</td>\n",
       "    </tr>\n",
       "    <tr>\n",
       "      <th>3</th>\n",
       "      <td>1</td>\n",
       "      <td>26-02-2010</td>\n",
       "      <td>1409727.59</td>\n",
       "      <td>0</td>\n",
       "      <td>46.63</td>\n",
       "      <td>2.561</td>\n",
       "      <td>211.319643</td>\n",
       "      <td>8.106</td>\n",
       "    </tr>\n",
       "    <tr>\n",
       "      <th>4</th>\n",
       "      <td>1</td>\n",
       "      <td>05-03-2010</td>\n",
       "      <td>1554806.68</td>\n",
       "      <td>0</td>\n",
       "      <td>46.50</td>\n",
       "      <td>2.625</td>\n",
       "      <td>211.350143</td>\n",
       "      <td>8.106</td>\n",
       "    </tr>\n",
       "  </tbody>\n",
       "</table>\n",
       "</div>"
      ],
      "text/plain": [
       "   Store        Date  Weekly_Sales  Holiday_Flag  Temperature  Fuel_Price  \\\n",
       "0      1  05-02-2010    1643690.90             0        42.31       2.572   \n",
       "1      1  12-02-2010    1641957.44             1        38.51       2.548   \n",
       "2      1  19-02-2010    1611968.17             0        39.93       2.514   \n",
       "3      1  26-02-2010    1409727.59             0        46.63       2.561   \n",
       "4      1  05-03-2010    1554806.68             0        46.50       2.625   \n",
       "\n",
       "          CPI  Unemployment  \n",
       "0  211.096358         8.106  \n",
       "1  211.242170         8.106  \n",
       "2  211.289143         8.106  \n",
       "3  211.319643         8.106  \n",
       "4  211.350143         8.106  "
      ]
     },
     "execution_count": 130,
     "metadata": {},
     "output_type": "execute_result"
    }
   ],
   "source": [
    "df_cpi=data.copy()\n",
    "df_cpi.head()"
   ]
  },
  {
   "cell_type": "code",
   "execution_count": 131,
   "id": "5eaec77d",
   "metadata": {},
   "outputs": [
    {
     "data": {
      "text/plain": [
       "np.float64(227.2328068)"
      ]
     },
     "execution_count": 131,
     "metadata": {},
     "output_type": "execute_result"
    }
   ],
   "source": [
    "df_cpi['CPI'].max()"
   ]
  },
  {
   "cell_type": "code",
   "execution_count": 132,
   "id": "b5d286df",
   "metadata": {},
   "outputs": [
    {
     "data": {
      "text/plain": [
       "np.float64(126.064)"
      ]
     },
     "execution_count": 132,
     "metadata": {},
     "output_type": "execute_result"
    }
   ],
   "source": [
    "df_cpi['CPI'].min()"
   ]
  },
  {
   "cell_type": "code",
   "execution_count": 144,
   "id": "1a77404f",
   "metadata": {},
   "outputs": [
    {
     "name": "stdout",
     "output_type": "stream",
     "text": [
      "CPI_Cat\n",
      "126-135    1728\n",
      "136-145     917\n",
      "146-155       0\n",
      "156-165       0\n",
      "166-175       0\n",
      "176-185     117\n",
      "186-195     517\n",
      "196-205     358\n",
      "206-215    1125\n",
      "216-230    1158\n",
      "Name: count, dtype: int64\n"
     ]
    }
   ],
   "source": [
    "bins = [125,135,145,155,165,175,185,195,205,215,230] # Creating bins  and label to sort the tempeture values\n",
    "temp_label = ['126-135','136-145','146-155','156-165','166-175','176-185','186-195','196-205','206-215', '216-230'] \n",
    "\n",
    "\n",
    "df_cpi['CPI_Cat'] = pd.cut(df_cpi[\"CPI\"], bins=bins, labels=temp_label)\n",
    "cpi_counts = df_cpi['CPI_Cat'].value_counts().sort_index()\n",
    "print(cpi_counts)"
   ]
  },
  {
   "cell_type": "code",
   "execution_count": 176,
   "id": "be55ec4c",
   "metadata": {},
   "outputs": [
    {
     "name": "stderr",
     "output_type": "stream",
     "text": [
      "/var/folders/pm/_x3_30fx12v1cmg1svz1jjd40000gn/T/ipykernel_28495/2422264789.py:1: FutureWarning: The default of observed=False is deprecated and will be changed to True in a future version of pandas. Pass observed=False to retain current behavior or observed=True to adopt the future default and silence this warning.\n",
      "  cpi_Sales=df_cpi.groupby(\"CPI_Cat\")['Weekly_Sales'].sum().reset_index()\n"
     ]
    },
    {
     "data": {
      "image/png": "[encoded data removed]",
      "text/plain": [
       "<Figure size 1000x600 with 1 Axes>"
      ]
     },
     "metadata": {},
     "output_type": "display_data"
    }
   ],
   "source": [
    "cpi_Sales=df_cpi.groupby(\"CPI_Cat\")['Weekly_Sales'].sum().reset_index()\n",
    "cpi_Sales\n",
    "\n",
    "plt.figure(figsize=(10, 6))\n",
    "plt.bar(cpi_Sales['CPI_Cat'],cpi_Sales['Weekly_Sales'], color='skyblue')\n",
    "plt.xlabel('CPI Category')\n",
    "plt.ylabel('Total Sales')\n",
    "plt.title('Total  Sales by CPI Category')\n",
    "plt.xticks(rotation=0)\n",
    "plt.show()\n",
    "\n"
   ]
  },
  {
   "cell_type": "code",
   "execution_count": 177,
   "id": "956ab335",
   "metadata": {},
   "outputs": [
    {
     "data": {
      "text/plain": [
       "<Axes: >"
      ]
     },
     "execution_count": 177,
     "metadata": {},
     "output_type": "execute_result"
    },
    {
     "data": {
      "image/png": "[encoded data removed]",
      "text/plain": [
       "<Figure size 640x480 with 2 Axes>"
      ]
     },
     "metadata": {},
     "output_type": "display_data"
    }
   ],
   "source": [
    "corr_cpi = df_cpi[['Weekly_Sales', 'CPI']].corr()\n",
    "sns.heatmap(corr_cpi, annot=True)"
   ]
  },
  {
   "cell_type": "markdown",
   "id": "95c6b241",
   "metadata": {},
   "source": [
    "# 5. How is the Fuel price affecting the weekly sales of various stores?"
   ]
  },
  {
   "cell_type": "code",
   "execution_count": 179,
   "id": "18e59ca7",
   "metadata": {},
   "outputs": [
    {
     "data": {
      "text/html": [
       "<div>\n",
       "<style scoped>\n",
       "    .dataframe tbody tr th:only-of-type {\n",
       "        vertical-align: middle;\n",
       "    }\n",
       "\n",
       "    .dataframe tbody tr th {\n",
       "        vertical-align: top;\n",
       "    }\n",
       "\n",
       "    .dataframe thead th {\n",
       "        text-align: right;\n",
       "    }\n",
       "</style>\n",
       "<table border=\"1\" class=\"dataframe\">\n",
       "  <thead>\n",
       "    <tr style=\"text-align: right;\">\n",
       "      <th></th>\n",
       "      <th>Store</th>\n",
       "      <th>Date</th>\n",
       "      <th>Weekly_Sales</th>\n",
       "      <th>Holiday_Flag</th>\n",
       "      <th>Temperature</th>\n",
       "      <th>Fuel_Price</th>\n",
       "      <th>CPI</th>\n",
       "      <th>Unemployment</th>\n",
       "    </tr>\n",
       "  </thead>\n",
       "  <tbody>\n",
       "    <tr>\n",
       "      <th>0</th>\n",
       "      <td>1</td>\n",
       "      <td>05-02-2010</td>\n",
       "      <td>1643690.90</td>\n",
       "      <td>0</td>\n",
       "      <td>42.31</td>\n",
       "      <td>2.572</td>\n",
       "      <td>211.096358</td>\n",
       "      <td>8.106</td>\n",
       "    </tr>\n",
       "    <tr>\n",
       "      <th>1</th>\n",
       "      <td>1</td>\n",
       "      <td>12-02-2010</td>\n",
       "      <td>1641957.44</td>\n",
       "      <td>1</td>\n",
       "      <td>38.51</td>\n",
       "      <td>2.548</td>\n",
       "      <td>211.242170</td>\n",
       "      <td>8.106</td>\n",
       "    </tr>\n",
       "    <tr>\n",
       "      <th>2</th>\n",
       "      <td>1</td>\n",
       "      <td>19-02-2010</td>\n",
       "      <td>1611968.17</td>\n",
       "      <td>0</td>\n",
       "      <td>39.93</td>\n",
       "      <td>2.514</td>\n",
       "      <td>211.289143</td>\n",
       "      <td>8.106</td>\n",
       "    </tr>\n",
       "    <tr>\n",
       "      <th>3</th>\n",
       "      <td>1</td>\n",
       "      <td>26-02-2010</td>\n",
       "      <td>1409727.59</td>\n",
       "      <td>0</td>\n",
       "      <td>46.63</td>\n",
       "      <td>2.561</td>\n",
       "      <td>211.319643</td>\n",
       "      <td>8.106</td>\n",
       "    </tr>\n",
       "    <tr>\n",
       "      <th>4</th>\n",
       "      <td>1</td>\n",
       "      <td>05-03-2010</td>\n",
       "      <td>1554806.68</td>\n",
       "      <td>0</td>\n",
       "      <td>46.50</td>\n",
       "      <td>2.625</td>\n",
       "      <td>211.350143</td>\n",
       "      <td>8.106</td>\n",
       "    </tr>\n",
       "  </tbody>\n",
       "</table>\n",
       "</div>"
      ],
      "text/plain": [
       "   Store        Date  Weekly_Sales  Holiday_Flag  Temperature  Fuel_Price  \\\n",
       "0      1  05-02-2010    1643690.90             0        42.31       2.572   \n",
       "1      1  12-02-2010    1641957.44             1        38.51       2.548   \n",
       "2      1  19-02-2010    1611968.17             0        39.93       2.514   \n",
       "3      1  26-02-2010    1409727.59             0        46.63       2.561   \n",
       "4      1  05-03-2010    1554806.68             0        46.50       2.625   \n",
       "\n",
       "          CPI  Unemployment  \n",
       "0  211.096358         8.106  \n",
       "1  211.242170         8.106  \n",
       "2  211.289143         8.106  \n",
       "3  211.319643         8.106  \n",
       "4  211.350143         8.106  "
      ]
     },
     "execution_count": 179,
     "metadata": {},
     "output_type": "execute_result"
    }
   ],
   "source": [
    "df_fuel=data.copy()\n",
    "df_fuel.head()"
   ]
  },
  {
   "cell_type": "code",
   "execution_count": 180,
   "id": "1692609a",
   "metadata": {},
   "outputs": [
    {
     "data": {
      "text/html": [
       "<div>\n",
       "<style scoped>\n",
       "    .dataframe tbody tr th:only-of-type {\n",
       "        vertical-align: middle;\n",
       "    }\n",
       "\n",
       "    .dataframe tbody tr th {\n",
       "        vertical-align: top;\n",
       "    }\n",
       "\n",
       "    .dataframe thead th {\n",
       "        text-align: right;\n",
       "    }\n",
       "</style>\n",
       "<table border=\"1\" class=\"dataframe\">\n",
       "  <thead>\n",
       "    <tr style=\"text-align: right;\">\n",
       "      <th></th>\n",
       "      <th>Store</th>\n",
       "      <th>Weekly_Sales</th>\n",
       "      <th>Holiday_Flag</th>\n",
       "      <th>Temperature</th>\n",
       "      <th>Fuel_Price</th>\n",
       "      <th>CPI</th>\n",
       "      <th>Unemployment</th>\n",
       "    </tr>\n",
       "  </thead>\n",
       "  <tbody>\n",
       "    <tr>\n",
       "      <th>count</th>\n",
       "      <td>5920.000000</td>\n",
       "      <td>5.920000e+03</td>\n",
       "      <td>5920.000000</td>\n",
       "      <td>5920.000000</td>\n",
       "      <td>5920.000000</td>\n",
       "      <td>5920.000000</td>\n",
       "      <td>5920.000000</td>\n",
       "    </tr>\n",
       "    <tr>\n",
       "      <th>mean</th>\n",
       "      <td>22.798142</td>\n",
       "      <td>1.039202e+06</td>\n",
       "      <td>0.069088</td>\n",
       "      <td>60.404422</td>\n",
       "      <td>3.340395</td>\n",
       "      <td>175.010815</td>\n",
       "      <td>7.722377</td>\n",
       "    </tr>\n",
       "    <tr>\n",
       "      <th>std</th>\n",
       "      <td>13.092635</td>\n",
       "      <td>5.518484e+05</td>\n",
       "      <td>0.253625</td>\n",
       "      <td>18.427013</td>\n",
       "      <td>0.458143</td>\n",
       "      <td>39.022611</td>\n",
       "      <td>1.243156</td>\n",
       "    </tr>\n",
       "    <tr>\n",
       "      <th>min</th>\n",
       "      <td>1.000000</td>\n",
       "      <td>2.099862e+05</td>\n",
       "      <td>0.000000</td>\n",
       "      <td>-2.060000</td>\n",
       "      <td>2.472000</td>\n",
       "      <td>126.064000</td>\n",
       "      <td>4.308000</td>\n",
       "    </tr>\n",
       "    <tr>\n",
       "      <th>25%</th>\n",
       "      <td>11.000000</td>\n",
       "      <td>5.526404e+05</td>\n",
       "      <td>0.000000</td>\n",
       "      <td>46.965000</td>\n",
       "      <td>2.891000</td>\n",
       "      <td>132.766139</td>\n",
       "      <td>6.891000</td>\n",
       "    </tr>\n",
       "    <tr>\n",
       "      <th>50%</th>\n",
       "      <td>22.000000</td>\n",
       "      <td>9.469219e+05</td>\n",
       "      <td>0.000000</td>\n",
       "      <td>62.610000</td>\n",
       "      <td>3.418500</td>\n",
       "      <td>190.006988</td>\n",
       "      <td>7.852000</td>\n",
       "    </tr>\n",
       "    <tr>\n",
       "      <th>75%</th>\n",
       "      <td>34.000000</td>\n",
       "      <td>1.427444e+06</td>\n",
       "      <td>0.000000</td>\n",
       "      <td>74.722500</td>\n",
       "      <td>3.721000</td>\n",
       "      <td>213.793561</td>\n",
       "      <td>8.494000</td>\n",
       "    </tr>\n",
       "    <tr>\n",
       "      <th>max</th>\n",
       "      <td>45.000000</td>\n",
       "      <td>2.685352e+06</td>\n",
       "      <td>1.000000</td>\n",
       "      <td>100.140000</td>\n",
       "      <td>4.468000</td>\n",
       "      <td>227.232807</td>\n",
       "      <td>10.926000</td>\n",
       "    </tr>\n",
       "  </tbody>\n",
       "</table>\n",
       "</div>"
      ],
      "text/plain": [
       "             Store  Weekly_Sales  Holiday_Flag  Temperature   Fuel_Price  \\\n",
       "count  5920.000000  5.920000e+03   5920.000000  5920.000000  5920.000000   \n",
       "mean     22.798142  1.039202e+06      0.069088    60.404422     3.340395   \n",
       "std      13.092635  5.518484e+05      0.253625    18.427013     0.458143   \n",
       "min       1.000000  2.099862e+05      0.000000    -2.060000     2.472000   \n",
       "25%      11.000000  5.526404e+05      0.000000    46.965000     2.891000   \n",
       "50%      22.000000  9.469219e+05      0.000000    62.610000     3.418500   \n",
       "75%      34.000000  1.427444e+06      0.000000    74.722500     3.721000   \n",
       "max      45.000000  2.685352e+06      1.000000   100.140000     4.468000   \n",
       "\n",
       "               CPI  Unemployment  \n",
       "count  5920.000000   5920.000000  \n",
       "mean    175.010815      7.722377  \n",
       "std      39.022611      1.243156  \n",
       "min     126.064000      4.308000  \n",
       "25%     132.766139      6.891000  \n",
       "50%     190.006988      7.852000  \n",
       "75%     213.793561      8.494000  \n",
       "max     227.232807     10.926000  "
      ]
     },
     "execution_count": 180,
     "metadata": {},
     "output_type": "execute_result"
    }
   ],
   "source": [
    "df_fuel.describe()"
   ]
  },
  {
   "cell_type": "code",
   "execution_count": 182,
   "id": "0a4a3aec",
   "metadata": {},
   "outputs": [
    {
     "data": {
      "text/plain": [
       "Fuel_Price_Cat\n",
       "2.0-2.5       1\n",
       "2.6-3.0    1834\n",
       "3.1-3.5    1364\n",
       "3.6-4.0    2406\n",
       "4.1-4.5     315\n",
       "Name: count, dtype: int64"
      ]
     },
     "execution_count": 182,
     "metadata": {},
     "output_type": "execute_result"
    }
   ],
   "source": [
    "bins= [2.0,2.5,3.0,3.5,4.0,4.5] # Creating bins  and label to sort the tempeture values\n",
    "labels= ['2.0-2.5','2.6-3.0','3.1-3.5','3.6-4.0','4.1-4.5']\n",
    "\n",
    "df_fuel['Fuel_Price_Cat'] = pd.cut(df_fuel['Fuel_Price'], bins=bins, labels=labels)\n",
    "\n",
    "df_fuel_count = df_fuel['Fuel_Price_Cat'].value_counts().sort_index()\n",
    "df_fuel_count"
   ]
  },
  {
   "cell_type": "code",
   "execution_count": 183,
   "id": "33997b8a",
   "metadata": {},
   "outputs": [
    {
     "name": "stderr",
     "output_type": "stream",
     "text": [
      "/var/folders/pm/_x3_30fx12v1cmg1svz1jjd40000gn/T/ipykernel_28495/85547539.py:1: FutureWarning: The default of observed=False is deprecated and will be changed to True in a future version of pandas. Pass observed=False to retain current behavior or observed=True to adopt the future default and silence this warning.\n",
      "  df_fuel_Sales= df_fuel.groupby('Fuel_Price_Cat')['Weekly_Sales'].sum().reset_index()\n"
     ]
    },
    {
     "data": {
      "image/png": "[encoded data removed]",
      "text/plain": [
       "<Figure size 640x480 with 1 Axes>"
      ]
     },
     "metadata": {},
     "output_type": "display_data"
    }
   ],
   "source": [
    "df_fuel_Sales= df_fuel.groupby('Fuel_Price_Cat')['Weekly_Sales'].sum().reset_index()\n",
    "df_fuel_Sales\n",
    "\n",
    "sns.barplot(x='Fuel_Price_Cat', y='Weekly_Sales', data=df_fuel_Sales)\n",
    "\n",
    "corr_fuel = df_fuel[['Weekly_Sales', 'Fuel_Price']].corr()"
   ]
  },
  {
   "cell_type": "code",
   "execution_count": 295,
   "id": "301cb3b8",
   "metadata": {},
   "outputs": [
    {
     "data": {
      "text/plain": [
       "<Axes: >"
      ]
     },
     "execution_count": 295,
     "metadata": {},
     "output_type": "execute_result"
    },
    {
     "data": {
      "image/png": "[encoded data removed]",
      "text/plain": [
       "<Figure size 640x480 with 2 Axes>"
      ]
     },
     "metadata": {},
     "output_type": "display_data"
    }
   ],
   "source": [
    "sns.heatmap(corr_fuel, annot=True)"
   ]
  },
  {
   "cell_type": "code",
   "execution_count": 198,
   "id": "0e555ffc",
   "metadata": {},
   "outputs": [
    {
     "data": {
      "image/png": "[encoded data removed]",
      "text/plain": [
       "<Figure size 800x500 with 1 Axes>"
      ]
     },
     "metadata": {},
     "output_type": "display_data"
    }
   ],
   "source": [
    "\n",
    "correlations = {}\n",
    "numeric_cols = ['Temperature', 'Unemployment', 'Fuel_Price', 'CPI', 'Holiday_Flag']\n",
    "\n",
    "for col in numeric_cols:\n",
    "    corr = data[['Weekly_Sales', col]].corr().iloc[0, 1]\n",
    "    correlations[col] = corr\n",
    "\n",
    "# Prepare data for plotting\n",
    "corr_df = pd.DataFrame(list(correlations.items()), columns=['Column', 'Correlation'])\n",
    "\n",
    "# Plot bar graph of correlation values\n",
    "plt.figure(figsize=(8,5))\n",
    "sns.barplot(x='Column', y='Correlation', data=corr_df ,color='red')\n",
    "plt.title('Correlation of Weekly Sales with all parameters', fontsize=16)\n",
    "plt.ylabel('Correlation Value')\n",
    "plt.xlabel('Column Name')\n",
    "\n",
    "plt.show()"
   ]
  },
  {
   "cell_type": "markdown",
   "id": "64f26ae8",
   "metadata": {},
   "source": [
    "#  Top performing Months according to the historical data"
   ]
  },
  {
   "cell_type": "code",
   "execution_count": 201,
   "id": "8395475d",
   "metadata": {},
   "outputs": [
    {
     "data": {
      "text/html": [
       "<div>\n",
       "<style scoped>\n",
       "    .dataframe tbody tr th:only-of-type {\n",
       "        vertical-align: middle;\n",
       "    }\n",
       "\n",
       "    .dataframe tbody tr th {\n",
       "        vertical-align: top;\n",
       "    }\n",
       "\n",
       "    .dataframe thead th {\n",
       "        text-align: right;\n",
       "    }\n",
       "</style>\n",
       "<table border=\"1\" class=\"dataframe\">\n",
       "  <thead>\n",
       "    <tr style=\"text-align: right;\">\n",
       "      <th></th>\n",
       "      <th>Store</th>\n",
       "      <th>Date</th>\n",
       "      <th>Weekly_Sales</th>\n",
       "      <th>Holiday_Flag</th>\n",
       "      <th>Temperature</th>\n",
       "      <th>Fuel_Price</th>\n",
       "      <th>CPI</th>\n",
       "      <th>Unemployment</th>\n",
       "    </tr>\n",
       "  </thead>\n",
       "  <tbody>\n",
       "    <tr>\n",
       "      <th>0</th>\n",
       "      <td>1</td>\n",
       "      <td>05-02-2010</td>\n",
       "      <td>1643690.90</td>\n",
       "      <td>0</td>\n",
       "      <td>42.31</td>\n",
       "      <td>2.572</td>\n",
       "      <td>211.096358</td>\n",
       "      <td>8.106</td>\n",
       "    </tr>\n",
       "    <tr>\n",
       "      <th>1</th>\n",
       "      <td>1</td>\n",
       "      <td>12-02-2010</td>\n",
       "      <td>1641957.44</td>\n",
       "      <td>1</td>\n",
       "      <td>38.51</td>\n",
       "      <td>2.548</td>\n",
       "      <td>211.242170</td>\n",
       "      <td>8.106</td>\n",
       "    </tr>\n",
       "    <tr>\n",
       "      <th>2</th>\n",
       "      <td>1</td>\n",
       "      <td>19-02-2010</td>\n",
       "      <td>1611968.17</td>\n",
       "      <td>0</td>\n",
       "      <td>39.93</td>\n",
       "      <td>2.514</td>\n",
       "      <td>211.289143</td>\n",
       "      <td>8.106</td>\n",
       "    </tr>\n",
       "    <tr>\n",
       "      <th>3</th>\n",
       "      <td>1</td>\n",
       "      <td>26-02-2010</td>\n",
       "      <td>1409727.59</td>\n",
       "      <td>0</td>\n",
       "      <td>46.63</td>\n",
       "      <td>2.561</td>\n",
       "      <td>211.319643</td>\n",
       "      <td>8.106</td>\n",
       "    </tr>\n",
       "    <tr>\n",
       "      <th>4</th>\n",
       "      <td>1</td>\n",
       "      <td>05-03-2010</td>\n",
       "      <td>1554806.68</td>\n",
       "      <td>0</td>\n",
       "      <td>46.50</td>\n",
       "      <td>2.625</td>\n",
       "      <td>211.350143</td>\n",
       "      <td>8.106</td>\n",
       "    </tr>\n",
       "  </tbody>\n",
       "</table>\n",
       "</div>"
      ],
      "text/plain": [
       "   Store        Date  Weekly_Sales  Holiday_Flag  Temperature  Fuel_Price  \\\n",
       "0      1  05-02-2010    1643690.90             0        42.31       2.572   \n",
       "1      1  12-02-2010    1641957.44             1        38.51       2.548   \n",
       "2      1  19-02-2010    1611968.17             0        39.93       2.514   \n",
       "3      1  26-02-2010    1409727.59             0        46.63       2.561   \n",
       "4      1  05-03-2010    1554806.68             0        46.50       2.625   \n",
       "\n",
       "          CPI  Unemployment  \n",
       "0  211.096358         8.106  \n",
       "1  211.242170         8.106  \n",
       "2  211.289143         8.106  \n",
       "3  211.319643         8.106  \n",
       "4  211.350143         8.106  "
      ]
     },
     "execution_count": 201,
     "metadata": {},
     "output_type": "execute_result"
    }
   ],
   "source": [
    "df_sales= data.copy()\n",
    "df_sales.head()"
   ]
  },
  {
   "cell_type": "code",
   "execution_count": 205,
   "id": "a9f9103a",
   "metadata": {},
   "outputs": [
    {
     "data": {
      "text/html": [
       "<div>\n",
       "<style scoped>\n",
       "    .dataframe tbody tr th:only-of-type {\n",
       "        vertical-align: middle;\n",
       "    }\n",
       "\n",
       "    .dataframe tbody tr th {\n",
       "        vertical-align: top;\n",
       "    }\n",
       "\n",
       "    .dataframe thead th {\n",
       "        text-align: right;\n",
       "    }\n",
       "</style>\n",
       "<table border=\"1\" class=\"dataframe\">\n",
       "  <thead>\n",
       "    <tr style=\"text-align: right;\">\n",
       "      <th></th>\n",
       "      <th>Store</th>\n",
       "      <th>Date</th>\n",
       "      <th>Weekly_Sales</th>\n",
       "      <th>Holiday_Flag</th>\n",
       "      <th>Temperature</th>\n",
       "      <th>Fuel_Price</th>\n",
       "      <th>CPI</th>\n",
       "      <th>Unemployment</th>\n",
       "      <th>Month</th>\n",
       "    </tr>\n",
       "  </thead>\n",
       "  <tbody>\n",
       "    <tr>\n",
       "      <th>0</th>\n",
       "      <td>1</td>\n",
       "      <td>2010-02-05</td>\n",
       "      <td>1643690.90</td>\n",
       "      <td>0</td>\n",
       "      <td>42.31</td>\n",
       "      <td>2.572</td>\n",
       "      <td>211.096358</td>\n",
       "      <td>8.106</td>\n",
       "      <td>2</td>\n",
       "    </tr>\n",
       "    <tr>\n",
       "      <th>1</th>\n",
       "      <td>1</td>\n",
       "      <td>2010-02-12</td>\n",
       "      <td>1641957.44</td>\n",
       "      <td>1</td>\n",
       "      <td>38.51</td>\n",
       "      <td>2.548</td>\n",
       "      <td>211.242170</td>\n",
       "      <td>8.106</td>\n",
       "      <td>2</td>\n",
       "    </tr>\n",
       "    <tr>\n",
       "      <th>2</th>\n",
       "      <td>1</td>\n",
       "      <td>2010-02-19</td>\n",
       "      <td>1611968.17</td>\n",
       "      <td>0</td>\n",
       "      <td>39.93</td>\n",
       "      <td>2.514</td>\n",
       "      <td>211.289143</td>\n",
       "      <td>8.106</td>\n",
       "      <td>2</td>\n",
       "    </tr>\n",
       "    <tr>\n",
       "      <th>3</th>\n",
       "      <td>1</td>\n",
       "      <td>2010-02-26</td>\n",
       "      <td>1409727.59</td>\n",
       "      <td>0</td>\n",
       "      <td>46.63</td>\n",
       "      <td>2.561</td>\n",
       "      <td>211.319643</td>\n",
       "      <td>8.106</td>\n",
       "      <td>2</td>\n",
       "    </tr>\n",
       "    <tr>\n",
       "      <th>4</th>\n",
       "      <td>1</td>\n",
       "      <td>2010-03-05</td>\n",
       "      <td>1554806.68</td>\n",
       "      <td>0</td>\n",
       "      <td>46.50</td>\n",
       "      <td>2.625</td>\n",
       "      <td>211.350143</td>\n",
       "      <td>8.106</td>\n",
       "      <td>3</td>\n",
       "    </tr>\n",
       "    <tr>\n",
       "      <th>...</th>\n",
       "      <td>...</td>\n",
       "      <td>...</td>\n",
       "      <td>...</td>\n",
       "      <td>...</td>\n",
       "      <td>...</td>\n",
       "      <td>...</td>\n",
       "      <td>...</td>\n",
       "      <td>...</td>\n",
       "      <td>...</td>\n",
       "    </tr>\n",
       "    <tr>\n",
       "      <th>6430</th>\n",
       "      <td>45</td>\n",
       "      <td>2012-09-28</td>\n",
       "      <td>713173.95</td>\n",
       "      <td>0</td>\n",
       "      <td>64.88</td>\n",
       "      <td>3.997</td>\n",
       "      <td>192.013558</td>\n",
       "      <td>8.684</td>\n",
       "      <td>9</td>\n",
       "    </tr>\n",
       "    <tr>\n",
       "      <th>6431</th>\n",
       "      <td>45</td>\n",
       "      <td>2012-10-05</td>\n",
       "      <td>733455.07</td>\n",
       "      <td>0</td>\n",
       "      <td>64.89</td>\n",
       "      <td>3.985</td>\n",
       "      <td>192.170412</td>\n",
       "      <td>8.667</td>\n",
       "      <td>10</td>\n",
       "    </tr>\n",
       "    <tr>\n",
       "      <th>6432</th>\n",
       "      <td>45</td>\n",
       "      <td>2012-10-12</td>\n",
       "      <td>734464.36</td>\n",
       "      <td>0</td>\n",
       "      <td>54.47</td>\n",
       "      <td>4.000</td>\n",
       "      <td>192.327265</td>\n",
       "      <td>8.667</td>\n",
       "      <td>10</td>\n",
       "    </tr>\n",
       "    <tr>\n",
       "      <th>6433</th>\n",
       "      <td>45</td>\n",
       "      <td>2012-10-19</td>\n",
       "      <td>718125.53</td>\n",
       "      <td>0</td>\n",
       "      <td>56.47</td>\n",
       "      <td>3.969</td>\n",
       "      <td>192.330854</td>\n",
       "      <td>8.667</td>\n",
       "      <td>10</td>\n",
       "    </tr>\n",
       "    <tr>\n",
       "      <th>6434</th>\n",
       "      <td>45</td>\n",
       "      <td>2012-10-26</td>\n",
       "      <td>760281.43</td>\n",
       "      <td>0</td>\n",
       "      <td>58.85</td>\n",
       "      <td>3.882</td>\n",
       "      <td>192.308899</td>\n",
       "      <td>8.667</td>\n",
       "      <td>10</td>\n",
       "    </tr>\n",
       "  </tbody>\n",
       "</table>\n",
       "<p>5920 rows × 9 columns</p>\n",
       "</div>"
      ],
      "text/plain": [
       "      Store       Date  Weekly_Sales  Holiday_Flag  Temperature  Fuel_Price  \\\n",
       "0         1 2010-02-05    1643690.90             0        42.31       2.572   \n",
       "1         1 2010-02-12    1641957.44             1        38.51       2.548   \n",
       "2         1 2010-02-19    1611968.17             0        39.93       2.514   \n",
       "3         1 2010-02-26    1409727.59             0        46.63       2.561   \n",
       "4         1 2010-03-05    1554806.68             0        46.50       2.625   \n",
       "...     ...        ...           ...           ...          ...         ...   \n",
       "6430     45 2012-09-28     713173.95             0        64.88       3.997   \n",
       "6431     45 2012-10-05     733455.07             0        64.89       3.985   \n",
       "6432     45 2012-10-12     734464.36             0        54.47       4.000   \n",
       "6433     45 2012-10-19     718125.53             0        56.47       3.969   \n",
       "6434     45 2012-10-26     760281.43             0        58.85       3.882   \n",
       "\n",
       "             CPI  Unemployment  Month  \n",
       "0     211.096358         8.106      2  \n",
       "1     211.242170         8.106      2  \n",
       "2     211.289143         8.106      2  \n",
       "3     211.319643         8.106      2  \n",
       "4     211.350143         8.106      3  \n",
       "...          ...           ...    ...  \n",
       "6430  192.013558         8.684      9  \n",
       "6431  192.170412         8.667     10  \n",
       "6432  192.327265         8.667     10  \n",
       "6433  192.330854         8.667     10  \n",
       "6434  192.308899         8.667     10  \n",
       "\n",
       "[5920 rows x 9 columns]"
      ]
     },
     "execution_count": 205,
     "metadata": {},
     "output_type": "execute_result"
    }
   ],
   "source": [
    "df_sales['Date'] = pd.to_datetime(df_sales['Date'], format='%d-%m-%Y')\n",
    "df_sales['Month'] = df_sales['Date'].dt.month\n",
    "\n",
    "df_sales"
   ]
  },
  {
   "cell_type": "code",
   "execution_count": 206,
   "id": "5f4f4e94",
   "metadata": {},
   "outputs": [],
   "source": [
    "df_top_sales= df_sales.groupby('Month')['Weekly_Sales'].sum().reset_index()\n",
    "df_top=df_top_sales.sort_values(by='Weekly_Sales', ascending=False).head(5)"
   ]
  },
  {
   "cell_type": "code",
   "execution_count": 204,
   "id": "5d5dfa9d",
   "metadata": {},
   "outputs": [
    {
     "data": {
      "text/plain": [
       "Text(0.5, 1.0, 'Top 5 Month in Sales')"
      ]
     },
     "execution_count": 204,
     "metadata": {},
     "output_type": "execute_result"
    },
    {
     "data": {
      "image/png": "[encoded data removed]",
      "text/plain": [
       "<Figure size 640x480 with 1 Axes>"
      ]
     },
     "metadata": {},
     "output_type": "display_data"
    }
   ],
   "source": [
    "\n",
    "sns.barplot(x=\"Month\",y=\"Weekly_Sales\",data=df_top)\n",
    "plt.title('Top 5 Month in Sales',fontsize=20) "
   ]
  },
  {
   "cell_type": "markdown",
   "id": "30c0c15a",
   "metadata": {},
   "source": [
    "here we can clearly see that month 4 and 7 have top sales i.e april and june\n",
    "and the march month has the least sales"
   ]
  }
 ],
 "metadata": {
  "kernelspec": {
   "display_name": "Python 3",
   "language": "python",
   "name": "python3"
  },
  "language_info": {
   "codemirror_mode": {
    "name": "ipython",
    "version": 3
   },
   "file_extension": ".py",
   "mimetype": "text/x-python",
   "name": "python",
   "nbconvert_exporter": "python",
   "pygments_lexer": "ipython3",
   "version": "3.9.6"
  }
 },
 "nbformat": 4,
 "nbformat_minor": 5
}
